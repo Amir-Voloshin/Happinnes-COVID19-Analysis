{
  "cells": [
    {
      "cell_type": "markdown",
      "source": [
        "# *An Analysis of Happiness Pre and Post-COVID-19*\n",
        "### PSTAT 100 Course Project\n",
        "### Maya Hetz | Amir Voloshin | Sarah Feuer"
      ],
      "metadata": {
        "id": "9ffB9DQD5KN7"
      }
    },
    {
      "cell_type": "markdown",
      "source": [
        "# Data Description <br>\n",
        "The World Happiness Report 2023 aims to measure global happiness by how happy their citizens perceive themselves to be. About 1,000 people from over 150 countries are asked annually a series of questions related to happiness, and The World Happiness Report 2023 quantifies this data - weighted by population - by country from 2008-present. The observational units are countries, and some variables observed on each unit are year, life ladder, log GDP per capita, life expectancy, positive effect, and negative effect. \n",
        "Life Ladder is an averaged index to the question: “Please imagine a ladder, with steps numbered from 0 at the bottom to 10 at the top. The top of the ladder represents the best possible life for you and the bottom of the ladder represents the worst possible life for you. On which step of the ladder would you say you personally feel you stand at this time?”\n",
        "Positive effect is an average index of three positive emotions: laugh, enjoyment and doing interesting things, on a particular day i.e. \"Did you smile or laugh a lot yesterday?\" Similarly, negative effect averaged the three emotions: worry, sadness and anger with similar sampling questions. The focus of this write-up uses these three variables mainly as measures of happiness. \n",
        "\n",
        "Our project specifically focuses on three countries: the United States, Israel, and China. We chose these countries for various reasons. Our question of interest relates to the recent global crisis, the COVID-19 pandemic. The US is a good candidate to answer our question of interest because as its citizens we are familiar with its internal policies and regulations and this can be helpful in our data analysis. Additionally, Israel is another leading first-world country that our group members personally connect to so we thought it would add another interesting and personal perspective to our investigation. Lastly, China is a country who took drastic measures during that era, so it will be interesting to see how those extreme conditions affected national happiness. \n"
      ],
      "metadata": {
        "id": "oe8J7zRl28Ty"
      }
    },
    {
      "cell_type": "markdown",
      "source": [
        "# Question of Interest\n",
        "How did the COVID-19 pandemic affect overall happiness in the United States, Israel, and China? What similarities and differences are there? "
      ],
      "metadata": {
        "id": "hm2pNJ0YIAQz"
      }
    },
    {
      "cell_type": "markdown",
      "source": [
        "# Packages & Additional Utilities"
      ],
      "metadata": {
        "id": "_6gO3O7g7_KR"
      }
    },
    {
      "cell_type": "code",
      "source": [
        "# Run this to acces your drive for the Data\n",
        "from google.colab import drive\n",
        "drive.mount('/content/drive')"
      ],
      "metadata": {
        "colab": {
          "base_uri": "https://localhost:8080/",
          "height": 0
        },
        "id": "IXWsTb_a6U3i",
        "outputId": "61371fef-3a60-4e3a-c6d6-81ecf6bc8df1"
      },
      "execution_count": 1,
      "outputs": [
        {
          "output_type": "stream",
          "name": "stdout",
          "text": [
            "Mounted at /content/drive\n"
          ]
        }
      ]
    },
    {
      "cell_type": "code",
      "source": [
        "# For Rendering at the end\n",
        "#%%shell\n",
        "#jupyter nbconvert --to html /content/mp2_ncca.ipynb"
      ],
      "metadata": {
        "id": "CwE5geBx6oib"
      },
      "execution_count": 2,
      "outputs": []
    },
    {
      "cell_type": "code",
      "source": [
        "import pandas as pd\n",
        "import numpy as np\n",
        "import altair as alt\n",
        "import statsmodels.api as sm\n",
        "import warnings\n",
        "warnings.filterwarnings('ignore')\n",
        "\n",
        "# We don't need this for google colab, just adding incase we render through Jypter Hub\n",
        "#alt.data_transformers.disable_max_rows()\n",
        "#alt.renderers.enable('mimetype')"
      ],
      "metadata": {
        "id": "y3hJTRUC6qan"
      },
      "execution_count": 18,
      "outputs": []
    },
    {
      "cell_type": "markdown",
      "source": [
        "# Data"
      ],
      "metadata": {
        "id": "8lnY49Lz6Sn8"
      }
    },
    {
      "cell_type": "code",
      "source": [
        "happy = pd.read_csv('/content/drive/MyDrive/Final Project - 100/whr-2023.csv')\n",
        "happy.head()"
      ],
      "metadata": {
        "id": "-Lp5mkdQ7x0H",
        "outputId": "78fcba2f-e0c9-4c2c-8109-0fda3d1a99b8",
        "colab": {
          "base_uri": "https://localhost:8080/",
          "height": 267
        }
      },
      "execution_count": 31,
      "outputs": [
        {
          "output_type": "execute_result",
          "data": {
            "text/plain": [
              "  Country name  year  Life Ladder  Log GDP per capita  Social support  \\\n",
              "0  Afghanistan  2008        3.724               7.350           0.451   \n",
              "1  Afghanistan  2009        4.402               7.509           0.552   \n",
              "2  Afghanistan  2010        4.758               7.614           0.539   \n",
              "3  Afghanistan  2011        3.832               7.581           0.521   \n",
              "4  Afghanistan  2012        3.783               7.661           0.521   \n",
              "\n",
              "   Healthy life expectancy at birth  Freedom to make life choices  Generosity  \\\n",
              "0                              50.5                         0.718       0.168   \n",
              "1                              50.8                         0.679       0.191   \n",
              "2                              51.1                         0.600       0.121   \n",
              "3                              51.4                         0.496       0.164   \n",
              "4                              51.7                         0.531       0.238   \n",
              "\n",
              "   Perceptions of corruption  Positive affect  Negative affect  \n",
              "0                      0.882            0.414            0.258  \n",
              "1                      0.850            0.481            0.237  \n",
              "2                      0.707            0.517            0.275  \n",
              "3                      0.731            0.480            0.267  \n",
              "4                      0.776            0.614            0.268  "
            ],
            "text/html": [
              "\n",
              "  <div id=\"df-8d522393-f2c1-476d-8910-c22108463549\">\n",
              "    <div class=\"colab-df-container\">\n",
              "      <div>\n",
              "<style scoped>\n",
              "    .dataframe tbody tr th:only-of-type {\n",
              "        vertical-align: middle;\n",
              "    }\n",
              "\n",
              "    .dataframe tbody tr th {\n",
              "        vertical-align: top;\n",
              "    }\n",
              "\n",
              "    .dataframe thead th {\n",
              "        text-align: right;\n",
              "    }\n",
              "</style>\n",
              "<table border=\"1\" class=\"dataframe\">\n",
              "  <thead>\n",
              "    <tr style=\"text-align: right;\">\n",
              "      <th></th>\n",
              "      <th>Country name</th>\n",
              "      <th>year</th>\n",
              "      <th>Life Ladder</th>\n",
              "      <th>Log GDP per capita</th>\n",
              "      <th>Social support</th>\n",
              "      <th>Healthy life expectancy at birth</th>\n",
              "      <th>Freedom to make life choices</th>\n",
              "      <th>Generosity</th>\n",
              "      <th>Perceptions of corruption</th>\n",
              "      <th>Positive affect</th>\n",
              "      <th>Negative affect</th>\n",
              "    </tr>\n",
              "  </thead>\n",
              "  <tbody>\n",
              "    <tr>\n",
              "      <th>0</th>\n",
              "      <td>Afghanistan</td>\n",
              "      <td>2008</td>\n",
              "      <td>3.724</td>\n",
              "      <td>7.350</td>\n",
              "      <td>0.451</td>\n",
              "      <td>50.5</td>\n",
              "      <td>0.718</td>\n",
              "      <td>0.168</td>\n",
              "      <td>0.882</td>\n",
              "      <td>0.414</td>\n",
              "      <td>0.258</td>\n",
              "    </tr>\n",
              "    <tr>\n",
              "      <th>1</th>\n",
              "      <td>Afghanistan</td>\n",
              "      <td>2009</td>\n",
              "      <td>4.402</td>\n",
              "      <td>7.509</td>\n",
              "      <td>0.552</td>\n",
              "      <td>50.8</td>\n",
              "      <td>0.679</td>\n",
              "      <td>0.191</td>\n",
              "      <td>0.850</td>\n",
              "      <td>0.481</td>\n",
              "      <td>0.237</td>\n",
              "    </tr>\n",
              "    <tr>\n",
              "      <th>2</th>\n",
              "      <td>Afghanistan</td>\n",
              "      <td>2010</td>\n",
              "      <td>4.758</td>\n",
              "      <td>7.614</td>\n",
              "      <td>0.539</td>\n",
              "      <td>51.1</td>\n",
              "      <td>0.600</td>\n",
              "      <td>0.121</td>\n",
              "      <td>0.707</td>\n",
              "      <td>0.517</td>\n",
              "      <td>0.275</td>\n",
              "    </tr>\n",
              "    <tr>\n",
              "      <th>3</th>\n",
              "      <td>Afghanistan</td>\n",
              "      <td>2011</td>\n",
              "      <td>3.832</td>\n",
              "      <td>7.581</td>\n",
              "      <td>0.521</td>\n",
              "      <td>51.4</td>\n",
              "      <td>0.496</td>\n",
              "      <td>0.164</td>\n",
              "      <td>0.731</td>\n",
              "      <td>0.480</td>\n",
              "      <td>0.267</td>\n",
              "    </tr>\n",
              "    <tr>\n",
              "      <th>4</th>\n",
              "      <td>Afghanistan</td>\n",
              "      <td>2012</td>\n",
              "      <td>3.783</td>\n",
              "      <td>7.661</td>\n",
              "      <td>0.521</td>\n",
              "      <td>51.7</td>\n",
              "      <td>0.531</td>\n",
              "      <td>0.238</td>\n",
              "      <td>0.776</td>\n",
              "      <td>0.614</td>\n",
              "      <td>0.268</td>\n",
              "    </tr>\n",
              "  </tbody>\n",
              "</table>\n",
              "</div>\n",
              "      <button class=\"colab-df-convert\" onclick=\"convertToInteractive('df-8d522393-f2c1-476d-8910-c22108463549')\"\n",
              "              title=\"Convert this dataframe to an interactive table.\"\n",
              "              style=\"display:none;\">\n",
              "        \n",
              "  <svg xmlns=\"http://www.w3.org/2000/svg\" height=\"24px\"viewBox=\"0 0 24 24\"\n",
              "       width=\"24px\">\n",
              "    <path d=\"M0 0h24v24H0V0z\" fill=\"none\"/>\n",
              "    <path d=\"M18.56 5.44l.94 2.06.94-2.06 2.06-.94-2.06-.94-.94-2.06-.94 2.06-2.06.94zm-11 1L8.5 8.5l.94-2.06 2.06-.94-2.06-.94L8.5 2.5l-.94 2.06-2.06.94zm10 10l.94 2.06.94-2.06 2.06-.94-2.06-.94-.94-2.06-.94 2.06-2.06.94z\"/><path d=\"M17.41 7.96l-1.37-1.37c-.4-.4-.92-.59-1.43-.59-.52 0-1.04.2-1.43.59L10.3 9.45l-7.72 7.72c-.78.78-.78 2.05 0 2.83L4 21.41c.39.39.9.59 1.41.59.51 0 1.02-.2 1.41-.59l7.78-7.78 2.81-2.81c.8-.78.8-2.07 0-2.86zM5.41 20L4 18.59l7.72-7.72 1.47 1.35L5.41 20z\"/>\n",
              "  </svg>\n",
              "      </button>\n",
              "      \n",
              "  <style>\n",
              "    .colab-df-container {\n",
              "      display:flex;\n",
              "      flex-wrap:wrap;\n",
              "      gap: 12px;\n",
              "    }\n",
              "\n",
              "    .colab-df-convert {\n",
              "      background-color: #E8F0FE;\n",
              "      border: none;\n",
              "      border-radius: 50%;\n",
              "      cursor: pointer;\n",
              "      display: none;\n",
              "      fill: #1967D2;\n",
              "      height: 32px;\n",
              "      padding: 0 0 0 0;\n",
              "      width: 32px;\n",
              "    }\n",
              "\n",
              "    .colab-df-convert:hover {\n",
              "      background-color: #E2EBFA;\n",
              "      box-shadow: 0px 1px 2px rgba(60, 64, 67, 0.3), 0px 1px 3px 1px rgba(60, 64, 67, 0.15);\n",
              "      fill: #174EA6;\n",
              "    }\n",
              "\n",
              "    [theme=dark] .colab-df-convert {\n",
              "      background-color: #3B4455;\n",
              "      fill: #D2E3FC;\n",
              "    }\n",
              "\n",
              "    [theme=dark] .colab-df-convert:hover {\n",
              "      background-color: #434B5C;\n",
              "      box-shadow: 0px 1px 3px 1px rgba(0, 0, 0, 0.15);\n",
              "      filter: drop-shadow(0px 1px 2px rgba(0, 0, 0, 0.3));\n",
              "      fill: #FFFFFF;\n",
              "    }\n",
              "  </style>\n",
              "\n",
              "      <script>\n",
              "        const buttonEl =\n",
              "          document.querySelector('#df-8d522393-f2c1-476d-8910-c22108463549 button.colab-df-convert');\n",
              "        buttonEl.style.display =\n",
              "          google.colab.kernel.accessAllowed ? 'block' : 'none';\n",
              "\n",
              "        async function convertToInteractive(key) {\n",
              "          const element = document.querySelector('#df-8d522393-f2c1-476d-8910-c22108463549');\n",
              "          const dataTable =\n",
              "            await google.colab.kernel.invokeFunction('convertToInteractive',\n",
              "                                                     [key], {});\n",
              "          if (!dataTable) return;\n",
              "\n",
              "          const docLinkHtml = 'Like what you see? Visit the ' +\n",
              "            '<a target=\"_blank\" href=https://colab.research.google.com/notebooks/data_table.ipynb>data table notebook</a>'\n",
              "            + ' to learn more about interactive tables.';\n",
              "          element.innerHTML = '';\n",
              "          dataTable['output_type'] = 'display_data';\n",
              "          await google.colab.output.renderOutput(dataTable, element);\n",
              "          const docLink = document.createElement('div');\n",
              "          docLink.innerHTML = docLinkHtml;\n",
              "          element.appendChild(docLink);\n",
              "        }\n",
              "      </script>\n",
              "    </div>\n",
              "  </div>\n",
              "  "
            ]
          },
          "metadata": {},
          "execution_count": 31
        }
      ]
    },
    {
      "cell_type": "markdown",
      "source": [
        "# Comparing Life Ladder, Positive affect, and Negative affect over time in each Country"
      ],
      "metadata": {
        "id": "2G30PvQ5A4-f"
      }
    },
    {
      "cell_type": "markdown",
      "source": [
        "## Israel"
      ],
      "metadata": {
        "id": "A7Ci9iFRLeue"
      }
    },
    {
      "cell_type": "code",
      "source": [
        "# Selecting Israel's Data\n",
        "happy_israel = happy[happy['Country name'] == 'Israel']\n",
        "\n",
        "# To add a vertical line at year 2020\n",
        "vertical_line = alt.Chart({'values': [{'x': 2020}]}).mark_rule(opacity = 0.5, color = 'red').encode(x = 'x:Q',)\n",
        "\n",
        "# Plot figures\n",
        "life_ladder = alt.Chart(happy_israel).mark_line(point={\"fill\": \"salmon\"}, color = 'salmon').encode(\n",
        "    x = alt.X('year', title = 'Year', scale = alt.Scale(domain = (2000, 2025))),\n",
        "    y = alt.Y('Life Ladder', scale = alt.Scale(domain = (6, 8))),\n",
        ").properties(title = 'Life Ladder vs Year Israel', width = 250, height = 250) + vertical_line\n",
        "\n",
        "positive = alt.Chart(happy_israel).mark_line(point={\"fill\": \"blue\"}, color='blue').encode(\n",
        "    x = alt.X('year', title = 'Year', scale = alt.Scale(domain = (2000, 2025))),\n",
        "    y = alt.Y('Positive affect', title='Positive Affect', scale = alt.Scale(domain = (0, 1))),\n",
        ").properties(title = 'Positive affect vs Year Israel', width = 250, height = 250)  + vertical_line\n",
        "\n",
        "negative = alt.Chart(happy_israel).mark_line(point={\"fill\": \"green\"}, color = 'green').encode(\n",
        "    x = alt.X('year', title = 'Year', scale = alt.Scale(domain = (2000, 2025))),\n",
        "    y = alt.Y('Negative affect', title='Negative Affect', scale = alt.Scale(domain = (0, 1))),\n",
        ").properties(title = 'Negative affect vs Year Israel', width = 250, height = 250)  + vertical_line\n",
        "\n",
        "# Viewing\n",
        "# pos_neg = alt.layer(positive, negative)\n",
        "alt.hconcat(life_ladder , positive, negative)"
      ],
      "metadata": {
        "id": "IDwojuao30vq",
        "outputId": "adf58487-2e98-4569-ce48-7798ff2b8562",
        "colab": {
          "base_uri": "https://localhost:8080/",
          "height": 338
        }
      },
      "execution_count": 30,
      "outputs": [
        {
          "output_type": "execute_result",
          "data": {
            "text/html": [
              "\n",
              "<div id=\"altair-viz-669d442148f4474ca8eb33ed25218e6e\"></div>\n",
              "<script type=\"text/javascript\">\n",
              "  var VEGA_DEBUG = (typeof VEGA_DEBUG == \"undefined\") ? {} : VEGA_DEBUG;\n",
              "  (function(spec, embedOpt){\n",
              "    let outputDiv = document.currentScript.previousElementSibling;\n",
              "    if (outputDiv.id !== \"altair-viz-669d442148f4474ca8eb33ed25218e6e\") {\n",
              "      outputDiv = document.getElementById(\"altair-viz-669d442148f4474ca8eb33ed25218e6e\");\n",
              "    }\n",
              "    const paths = {\n",
              "      \"vega\": \"https://cdn.jsdelivr.net/npm//vega@5?noext\",\n",
              "      \"vega-lib\": \"https://cdn.jsdelivr.net/npm//vega-lib?noext\",\n",
              "      \"vega-lite\": \"https://cdn.jsdelivr.net/npm//vega-lite@4.17.0?noext\",\n",
              "      \"vega-embed\": \"https://cdn.jsdelivr.net/npm//vega-embed@6?noext\",\n",
              "    };\n",
              "\n",
              "    function maybeLoadScript(lib, version) {\n",
              "      var key = `${lib.replace(\"-\", \"\")}_version`;\n",
              "      return (VEGA_DEBUG[key] == version) ?\n",
              "        Promise.resolve(paths[lib]) :\n",
              "        new Promise(function(resolve, reject) {\n",
              "          var s = document.createElement('script');\n",
              "          document.getElementsByTagName(\"head\")[0].appendChild(s);\n",
              "          s.async = true;\n",
              "          s.onload = () => {\n",
              "            VEGA_DEBUG[key] = version;\n",
              "            return resolve(paths[lib]);\n",
              "          };\n",
              "          s.onerror = () => reject(`Error loading script: ${paths[lib]}`);\n",
              "          s.src = paths[lib];\n",
              "        });\n",
              "    }\n",
              "\n",
              "    function showError(err) {\n",
              "      outputDiv.innerHTML = `<div class=\"error\" style=\"color:red;\">${err}</div>`;\n",
              "      throw err;\n",
              "    }\n",
              "\n",
              "    function displayChart(vegaEmbed) {\n",
              "      vegaEmbed(outputDiv, spec, embedOpt)\n",
              "        .catch(err => showError(`Javascript Error: ${err.message}<br>This usually means there's a typo in your chart specification. See the javascript console for the full traceback.`));\n",
              "    }\n",
              "\n",
              "    if(typeof define === \"function\" && define.amd) {\n",
              "      requirejs.config({paths});\n",
              "      require([\"vega-embed\"], displayChart, err => showError(`Error loading script: ${err.message}`));\n",
              "    } else {\n",
              "      maybeLoadScript(\"vega\", \"5\")\n",
              "        .then(() => maybeLoadScript(\"vega-lite\", \"4.17.0\"))\n",
              "        .then(() => maybeLoadScript(\"vega-embed\", \"6\"))\n",
              "        .catch(showError)\n",
              "        .then(() => displayChart(vegaEmbed));\n",
              "    }\n",
              "  })({\"config\": {\"view\": {\"continuousWidth\": 400, \"continuousHeight\": 300}}, \"hconcat\": [{\"layer\": [{\"data\": {\"name\": \"data-80c6de7ba5c103df639bebc0c73dc67a\"}, \"mark\": {\"type\": \"line\", \"color\": \"salmon\", \"point\": {\"fill\": \"salmon\"}}, \"encoding\": {\"x\": {\"field\": \"year\", \"scale\": {\"domain\": [2000, 2025]}, \"title\": \"Year\", \"type\": \"quantitative\"}, \"y\": {\"field\": \"Life Ladder\", \"scale\": {\"domain\": [6, 8]}, \"type\": \"quantitative\"}}, \"height\": 250, \"title\": \"Life Ladder vs Year Israel\", \"width\": 250}, {\"data\": {\"name\": \"data-eb74b13b2d625b129649f33658dfa694\"}, \"mark\": {\"type\": \"rule\", \"color\": \"red\", \"opacity\": 0.5}, \"encoding\": {\"x\": {\"field\": \"x\", \"type\": \"quantitative\"}}}]}, {\"layer\": [{\"data\": {\"name\": \"data-80c6de7ba5c103df639bebc0c73dc67a\"}, \"mark\": {\"type\": \"line\", \"color\": \"blue\", \"point\": {\"fill\": \"blue\"}}, \"encoding\": {\"x\": {\"field\": \"year\", \"scale\": {\"domain\": [2000, 2025]}, \"title\": \"Year\", \"type\": \"quantitative\"}, \"y\": {\"field\": \"Positive affect\", \"scale\": {\"domain\": [0, 1]}, \"title\": \"Positive Affect\", \"type\": \"quantitative\"}}, \"height\": 250, \"title\": \"Positive affect vs Year Israel\", \"width\": 250}, {\"data\": {\"name\": \"data-eb74b13b2d625b129649f33658dfa694\"}, \"mark\": {\"type\": \"rule\", \"color\": \"red\", \"opacity\": 0.5}, \"encoding\": {\"x\": {\"field\": \"x\", \"type\": \"quantitative\"}}}]}, {\"layer\": [{\"data\": {\"name\": \"data-80c6de7ba5c103df639bebc0c73dc67a\"}, \"mark\": {\"type\": \"line\", \"color\": \"green\", \"point\": {\"fill\": \"green\"}}, \"encoding\": {\"x\": {\"field\": \"year\", \"scale\": {\"domain\": [2000, 2025]}, \"title\": \"Year\", \"type\": \"quantitative\"}, \"y\": {\"field\": \"Negative affect\", \"scale\": {\"domain\": [0, 1]}, \"title\": \"Negative Affect\", \"type\": \"quantitative\"}}, \"height\": 250, \"title\": \"Negative affect vs Year Israel\", \"width\": 250}, {\"data\": {\"name\": \"data-eb74b13b2d625b129649f33658dfa694\"}, \"mark\": {\"type\": \"rule\", \"color\": \"red\", \"opacity\": 0.5}, \"encoding\": {\"x\": {\"field\": \"x\", \"type\": \"quantitative\"}}}]}], \"$schema\": \"https://vega.github.io/schema/vega-lite/v4.17.0.json\", \"datasets\": {\"data-80c6de7ba5c103df639bebc0c73dc67a\": [{\"Country name\": \"Israel\", \"year\": 2006, \"Life Ladder\": 7.173, \"Log GDP per capita\": 10.359, \"Social support\": 0.927, \"Healthy life expectancy at birth\": 71.08, \"Freedom to make life choices\": 0.817, \"Generosity\": null, \"Perceptions of corruption\": 0.905, \"Positive affect\": 0.639, \"Negative affect\": 0.308}, {\"Country name\": \"Israel\", \"year\": 2007, \"Life Ladder\": 6.841, \"Log GDP per capita\": 10.4, \"Social support\": 0.868, \"Healthy life expectancy at birth\": 71.16, \"Freedom to make life choices\": 0.683, \"Generosity\": 0.217, \"Perceptions of corruption\": 0.868, \"Positive affect\": 0.642, \"Negative affect\": 0.32}, {\"Country name\": \"Israel\", \"year\": 2008, \"Life Ladder\": 7.261, \"Log GDP per capita\": 10.414, \"Social support\": 0.859, \"Healthy life expectancy at birth\": 71.24, \"Freedom to make life choices\": 0.663, \"Generosity\": 0.136, \"Perceptions of corruption\": 0.898, \"Positive affect\": 0.635, \"Negative affect\": 0.349}, {\"Country name\": \"Israel\", \"year\": 2009, \"Life Ladder\": 7.353, \"Log GDP per capita\": 10.399, \"Social support\": 0.937, \"Healthy life expectancy at birth\": 71.32, \"Freedom to make life choices\": 0.593, \"Generosity\": 0.17, \"Perceptions of corruption\": 0.923, \"Positive affect\": 0.62, \"Negative affect\": 0.327}, {\"Country name\": \"Israel\", \"year\": 2010, \"Life Ladder\": 7.359, \"Log GDP per capita\": 10.436, \"Social support\": 0.882, \"Healthy life expectancy at birth\": 71.4, \"Freedom to make life choices\": 0.561, \"Generosity\": 0.148, \"Perceptions of corruption\": 0.902, \"Positive affect\": 0.628, \"Negative affect\": 0.362}, {\"Country name\": \"Israel\", \"year\": 2011, \"Life Ladder\": 7.433, \"Log GDP per capita\": 10.472, \"Social support\": 0.893, \"Healthy life expectancy at birth\": 71.48, \"Freedom to make life choices\": 0.722, \"Generosity\": 0.138, \"Perceptions of corruption\": 0.891, \"Positive affect\": 0.654, \"Negative affect\": 0.384}, {\"Country name\": \"Israel\", \"year\": 2012, \"Life Ladder\": 7.111, \"Log GDP per capita\": 10.479, \"Social support\": 0.903, \"Healthy life expectancy at birth\": 71.56, \"Freedom to make life choices\": 0.681, \"Generosity\": 0.15, \"Perceptions of corruption\": 0.862, \"Positive affect\": 0.611, \"Negative affect\": 0.319}, {\"Country name\": \"Israel\", \"year\": 2013, \"Life Ladder\": 7.321, \"Log GDP per capita\": 10.503, \"Social support\": 0.909, \"Healthy life expectancy at birth\": 71.64, \"Freedom to make life choices\": 0.739, \"Generosity\": 0.147, \"Perceptions of corruption\": 0.849, \"Positive affect\": 0.649, \"Negative affect\": 0.409}, {\"Country name\": \"Israel\", \"year\": 2014, \"Life Ladder\": 7.401, \"Log GDP per capita\": 10.523, \"Social support\": 0.889, \"Healthy life expectancy at birth\": 71.72, \"Freedom to make life choices\": 0.707, \"Generosity\": 0.09, \"Perceptions of corruption\": 0.818, \"Positive affect\": 0.567, \"Negative affect\": 0.271}, {\"Country name\": \"Israel\", \"year\": 2015, \"Life Ladder\": 7.079, \"Log GDP per capita\": 10.527, \"Social support\": 0.864, \"Healthy life expectancy at birth\": 71.8, \"Freedom to make life choices\": 0.753, \"Generosity\": 0.105, \"Perceptions of corruption\": 0.789, \"Positive affect\": 0.652, \"Negative affect\": 0.256}, {\"Country name\": \"Israel\", \"year\": 2016, \"Life Ladder\": 7.159, \"Log GDP per capita\": 10.552, \"Social support\": 0.89, \"Healthy life expectancy at birth\": 71.95, \"Freedom to make life choices\": 0.772, \"Generosity\": 0.149, \"Perceptions of corruption\": 0.804, \"Positive affect\": 0.602, \"Negative affect\": 0.263}, {\"Country name\": \"Israel\", \"year\": 2017, \"Life Ladder\": 7.331, \"Log GDP per capita\": 10.574, \"Social support\": 0.916, \"Healthy life expectancy at birth\": 72.1, \"Freedom to make life choices\": 0.768, \"Generosity\": 0.141, \"Perceptions of corruption\": 0.793, \"Positive affect\": 0.621, \"Negative affect\": 0.276}, {\"Country name\": \"Israel\", \"year\": 2018, \"Life Ladder\": 6.927, \"Log GDP per capita\": 10.595, \"Social support\": 0.91, \"Healthy life expectancy at birth\": 72.25, \"Freedom to make life choices\": 0.725, \"Generosity\": 0.05, \"Perceptions of corruption\": 0.77, \"Positive affect\": 0.612, \"Negative affect\": 0.282}, {\"Country name\": \"Israel\", \"year\": 2019, \"Life Ladder\": 7.332, \"Log GDP per capita\": 10.617, \"Social support\": 0.946, \"Healthy life expectancy at birth\": 72.4, \"Freedom to make life choices\": 0.834, \"Generosity\": 0.08, \"Perceptions of corruption\": 0.743, \"Positive affect\": 0.598, \"Negative affect\": 0.266}, {\"Country name\": \"Israel\", \"year\": 2020, \"Life Ladder\": 7.195, \"Log GDP per capita\": 10.58, \"Social support\": 0.959, \"Healthy life expectancy at birth\": 72.55, \"Freedom to make life choices\": 0.831, \"Generosity\": -0.057, \"Perceptions of corruption\": 0.748, \"Positive affect\": 0.564, \"Negative affect\": 0.243}, {\"Country name\": \"Israel\", \"year\": 2021, \"Life Ladder\": 7.578, \"Log GDP per capita\": 10.647, \"Social support\": 0.917, \"Healthy life expectancy at birth\": 72.7, \"Freedom to make life choices\": 0.82, \"Generosity\": -0.006, \"Perceptions of corruption\": 0.726, \"Positive affect\": 0.558, \"Negative affect\": 0.217}, {\"Country name\": \"Israel\", \"year\": 2022, \"Life Ladder\": 7.662, \"Log GDP per capita\": 10.692, \"Social support\": 0.954, \"Healthy life expectancy at birth\": 72.85, \"Freedom to make life choices\": 0.775, \"Generosity\": -0.005, \"Perceptions of corruption\": 0.655, \"Positive affect\": 0.583, \"Negative affect\": 0.183}], \"data-eb74b13b2d625b129649f33658dfa694\": [{\"x\": 2020}]}}, {\"mode\": \"vega-lite\"});\n",
              "</script>"
            ],
            "text/plain": [
              "alt.HConcatChart(...)"
            ]
          },
          "metadata": {},
          "execution_count": 30
        }
      ]
    },
    {
      "cell_type": "markdown",
      "source": [
        "## United States"
      ],
      "metadata": {
        "id": "qAKCjoPcLkZH"
      }
    },
    {
      "cell_type": "code",
      "source": [
        "# Selecting United States Data\n",
        "happy_us = happy[happy['Country name'] == 'United States']\n",
        "\n",
        "# Plot figures\n",
        "life_ladder_us = alt.Chart(happy_us).mark_line(point={\"fill\": \"salmon\"}, color = 'salmon').encode(\n",
        "    x = alt.X('year', title = 'Year', scale = alt.Scale(domain = (2000, 2025))),\n",
        "    y = alt.Y('Life Ladder', scale = alt.Scale(domain = (6, 8))),\n",
        ").properties(title = 'Life Ladder vs Year in the US', width = 250, height = 250) + vertical_line\n",
        "\n",
        "positive_us = alt.Chart(happy_us).mark_line(point={\"fill\": \"blue\"}, color='blue').encode(\n",
        "    x = alt.X('year', title = 'Year', scale = alt.Scale(domain = (2000, 2025))),\n",
        "    y = alt.Y('Positive affect', title='Positive Affect', scale = alt.Scale(domain = (0, 1))),\n",
        ").properties(title = 'Positive affect vs Year in the US', width = 250, height = 250)  + vertical_line\n",
        "\n",
        "negative_us = alt.Chart(happy_us).mark_line(point={\"fill\": \"green\"}, color = 'green').encode(\n",
        "    x = alt.X('year', title = 'Year', scale = alt.Scale(domain = (2000, 2025))),\n",
        "    y = alt.Y('Negative affect', title='Negative Affect', scale = alt.Scale(domain = (0, 1))),\n",
        ").properties(title = 'Negative affect vs Year in the US', width = 250, height = 250)  + vertical_line\n",
        "\n",
        "# Viewing\n",
        "# pos_neg = alt.layer(positive, negative)\n",
        "alt.hconcat(life_ladder_us , positive_us, negative_us)"
      ],
      "metadata": {
        "colab": {
          "base_uri": "https://localhost:8080/",
          "height": 338
        },
        "id": "vz3aSQ6EL1-3",
        "outputId": "a91e72ce-2705-4e67-c522-5d8c178f33d6"
      },
      "execution_count": 23,
      "outputs": [
        {
          "output_type": "execute_result",
          "data": {
            "text/html": [
              "\n",
              "<div id=\"altair-viz-660bedb3d1a9400eaed456007867e03d\"></div>\n",
              "<script type=\"text/javascript\">\n",
              "  var VEGA_DEBUG = (typeof VEGA_DEBUG == \"undefined\") ? {} : VEGA_DEBUG;\n",
              "  (function(spec, embedOpt){\n",
              "    let outputDiv = document.currentScript.previousElementSibling;\n",
              "    if (outputDiv.id !== \"altair-viz-660bedb3d1a9400eaed456007867e03d\") {\n",
              "      outputDiv = document.getElementById(\"altair-viz-660bedb3d1a9400eaed456007867e03d\");\n",
              "    }\n",
              "    const paths = {\n",
              "      \"vega\": \"https://cdn.jsdelivr.net/npm//vega@5?noext\",\n",
              "      \"vega-lib\": \"https://cdn.jsdelivr.net/npm//vega-lib?noext\",\n",
              "      \"vega-lite\": \"https://cdn.jsdelivr.net/npm//vega-lite@4.17.0?noext\",\n",
              "      \"vega-embed\": \"https://cdn.jsdelivr.net/npm//vega-embed@6?noext\",\n",
              "    };\n",
              "\n",
              "    function maybeLoadScript(lib, version) {\n",
              "      var key = `${lib.replace(\"-\", \"\")}_version`;\n",
              "      return (VEGA_DEBUG[key] == version) ?\n",
              "        Promise.resolve(paths[lib]) :\n",
              "        new Promise(function(resolve, reject) {\n",
              "          var s = document.createElement('script');\n",
              "          document.getElementsByTagName(\"head\")[0].appendChild(s);\n",
              "          s.async = true;\n",
              "          s.onload = () => {\n",
              "            VEGA_DEBUG[key] = version;\n",
              "            return resolve(paths[lib]);\n",
              "          };\n",
              "          s.onerror = () => reject(`Error loading script: ${paths[lib]}`);\n",
              "          s.src = paths[lib];\n",
              "        });\n",
              "    }\n",
              "\n",
              "    function showError(err) {\n",
              "      outputDiv.innerHTML = `<div class=\"error\" style=\"color:red;\">${err}</div>`;\n",
              "      throw err;\n",
              "    }\n",
              "\n",
              "    function displayChart(vegaEmbed) {\n",
              "      vegaEmbed(outputDiv, spec, embedOpt)\n",
              "        .catch(err => showError(`Javascript Error: ${err.message}<br>This usually means there's a typo in your chart specification. See the javascript console for the full traceback.`));\n",
              "    }\n",
              "\n",
              "    if(typeof define === \"function\" && define.amd) {\n",
              "      requirejs.config({paths});\n",
              "      require([\"vega-embed\"], displayChart, err => showError(`Error loading script: ${err.message}`));\n",
              "    } else {\n",
              "      maybeLoadScript(\"vega\", \"5\")\n",
              "        .then(() => maybeLoadScript(\"vega-lite\", \"4.17.0\"))\n",
              "        .then(() => maybeLoadScript(\"vega-embed\", \"6\"))\n",
              "        .catch(showError)\n",
              "        .then(() => displayChart(vegaEmbed));\n",
              "    }\n",
              "  })({\"config\": {\"view\": {\"continuousWidth\": 400, \"continuousHeight\": 300}}, \"hconcat\": [{\"layer\": [{\"data\": {\"name\": \"data-fdab0d8a571fc8a205df808c70afc11e\"}, \"mark\": {\"type\": \"line\", \"color\": \"salmon\", \"point\": {\"fill\": \"salmon\"}}, \"encoding\": {\"x\": {\"field\": \"year\", \"scale\": {\"domain\": [2000, 2025]}, \"title\": \"Year\", \"type\": \"quantitative\"}, \"y\": {\"field\": \"Life Ladder\", \"scale\": {\"domain\": [6, 8]}, \"type\": \"quantitative\"}}, \"height\": 250, \"title\": \"Life Ladder vs Year in the US\", \"width\": 250}, {\"data\": {\"name\": \"data-eb74b13b2d625b129649f33658dfa694\"}, \"mark\": {\"type\": \"rule\", \"color\": \"red\", \"opacity\": 0.5}, \"encoding\": {\"x\": {\"field\": \"x\", \"type\": \"quantitative\"}}}]}, {\"layer\": [{\"data\": {\"name\": \"data-fdab0d8a571fc8a205df808c70afc11e\"}, \"mark\": {\"type\": \"line\", \"color\": \"blue\", \"point\": {\"fill\": \"blue\"}}, \"encoding\": {\"x\": {\"field\": \"year\", \"scale\": {\"domain\": [2000, 2025]}, \"title\": \"Year\", \"type\": \"quantitative\"}, \"y\": {\"field\": \"Positive affect\", \"scale\": {\"domain\": [0, 1]}, \"title\": \"Positive Affect\", \"type\": \"quantitative\"}}, \"height\": 250, \"title\": \"Positive affect vs Year in the US\", \"width\": 250}, {\"data\": {\"name\": \"data-eb74b13b2d625b129649f33658dfa694\"}, \"mark\": {\"type\": \"rule\", \"color\": \"red\", \"opacity\": 0.5}, \"encoding\": {\"x\": {\"field\": \"x\", \"type\": \"quantitative\"}}}]}, {\"layer\": [{\"data\": {\"name\": \"data-fdab0d8a571fc8a205df808c70afc11e\"}, \"mark\": {\"type\": \"line\", \"color\": \"green\", \"point\": {\"fill\": \"green\"}}, \"encoding\": {\"x\": {\"field\": \"year\", \"scale\": {\"domain\": [2000, 2025]}, \"title\": \"Year\", \"type\": \"quantitative\"}, \"y\": {\"field\": \"Negative affect\", \"scale\": {\"domain\": [0, 1]}, \"title\": \"Negative Affect\", \"type\": \"quantitative\"}}, \"height\": 250, \"title\": \"Negative affect vs Year in the US\", \"width\": 250}, {\"data\": {\"name\": \"data-eb74b13b2d625b129649f33658dfa694\"}, \"mark\": {\"type\": \"rule\", \"color\": \"red\", \"opacity\": 0.5}, \"encoding\": {\"x\": {\"field\": \"x\", \"type\": \"quantitative\"}}}]}], \"$schema\": \"https://vega.github.io/schema/vega-lite/v4.17.0.json\", \"datasets\": {\"data-fdab0d8a571fc8a205df808c70afc11e\": [{\"Country name\": \"United States\", \"year\": 2006, \"Life Ladder\": 7.182, \"Log GDP per capita\": 10.921, \"Social support\": 0.965, \"Healthy life expectancy at birth\": 66.78, \"Freedom to make life choices\": 0.911, \"Generosity\": null, \"Perceptions of corruption\": 0.6, \"Positive affect\": 0.775, \"Negative affect\": 0.261}, {\"Country name\": \"United States\", \"year\": 2007, \"Life Ladder\": 7.513, \"Log GDP per capita\": 10.931, \"Social support\": null, \"Healthy life expectancy at birth\": 66.76, \"Freedom to make life choices\": 0.872, \"Generosity\": 0.193, \"Perceptions of corruption\": 0.633, \"Positive affect\": 0.756, \"Negative affect\": 0.232}, {\"Country name\": \"United States\", \"year\": 2008, \"Life Ladder\": 7.28, \"Log GDP per capita\": 10.923, \"Social support\": 0.953, \"Healthy life expectancy at birth\": 66.74, \"Freedom to make life choices\": 0.878, \"Generosity\": 0.25, \"Perceptions of corruption\": 0.668, \"Positive affect\": 0.774, \"Negative affect\": 0.227}, {\"Country name\": \"United States\", \"year\": 2009, \"Life Ladder\": 7.158, \"Log GDP per capita\": 10.888, \"Social support\": 0.912, \"Healthy life expectancy at birth\": 66.72, \"Freedom to make life choices\": 0.831, \"Generosity\": 0.196, \"Perceptions of corruption\": 0.665, \"Positive affect\": 0.753, \"Negative affect\": 0.262}, {\"Country name\": \"United States\", \"year\": 2010, \"Life Ladder\": 7.164, \"Log GDP per capita\": 10.906, \"Social support\": 0.926, \"Healthy life expectancy at birth\": 66.7, \"Freedom to make life choices\": 0.828, \"Generosity\": 0.239, \"Perceptions of corruption\": 0.69, \"Positive affect\": 0.776, \"Negative affect\": 0.231}, {\"Country name\": \"United States\", \"year\": 2011, \"Life Ladder\": 7.115, \"Log GDP per capita\": 10.914, \"Social support\": 0.922, \"Healthy life expectancy at birth\": 66.68, \"Freedom to make life choices\": 0.863, \"Generosity\": 0.156, \"Perceptions of corruption\": 0.697, \"Positive affect\": 0.737, \"Negative affect\": 0.273}, {\"Country name\": \"United States\", \"year\": 2012, \"Life Ladder\": 7.026, \"Log GDP per capita\": 10.93, \"Social support\": 0.903, \"Healthy life expectancy at birth\": 66.66, \"Freedom to make life choices\": 0.823, \"Generosity\": 0.21, \"Perceptions of corruption\": 0.71, \"Positive affect\": 0.765, \"Negative affect\": 0.26}, {\"Country name\": \"United States\", \"year\": 2013, \"Life Ladder\": 7.249, \"Log GDP per capita\": 10.941, \"Social support\": 0.925, \"Healthy life expectancy at birth\": 66.64, \"Freedom to make life choices\": 0.792, \"Generosity\": 0.269, \"Perceptions of corruption\": 0.747, \"Positive affect\": 0.776, \"Negative affect\": 0.26}, {\"Country name\": \"United States\", \"year\": 2014, \"Life Ladder\": 7.151, \"Log GDP per capita\": 10.956, \"Social support\": 0.902, \"Healthy life expectancy at birth\": 66.62, \"Freedom to make life choices\": 0.866, \"Generosity\": 0.217, \"Perceptions of corruption\": 0.702, \"Positive affect\": 0.786, \"Negative affect\": 0.281}, {\"Country name\": \"United States\", \"year\": 2015, \"Life Ladder\": 6.864, \"Log GDP per capita\": 10.976, \"Social support\": 0.904, \"Healthy life expectancy at birth\": 66.6, \"Freedom to make life choices\": 0.849, \"Generosity\": 0.215, \"Perceptions of corruption\": 0.698, \"Positive affect\": 0.769, \"Negative affect\": 0.275}, {\"Country name\": \"United States\", \"year\": 2016, \"Life Ladder\": 6.804, \"Log GDP per capita\": 10.985, \"Social support\": 0.897, \"Healthy life expectancy at birth\": 66.475, \"Freedom to make life choices\": 0.758, \"Generosity\": 0.14, \"Perceptions of corruption\": 0.739, \"Positive affect\": 0.737, \"Negative affect\": 0.264}, {\"Country name\": \"United States\", \"year\": 2017, \"Life Ladder\": 6.992, \"Log GDP per capita\": 11.001, \"Social support\": 0.921, \"Healthy life expectancy at birth\": 66.35, \"Freedom to make life choices\": 0.868, \"Generosity\": 0.193, \"Perceptions of corruption\": 0.681, \"Positive affect\": 0.755, \"Negative affect\": 0.268}, {\"Country name\": \"United States\", \"year\": 2018, \"Life Ladder\": 6.883, \"Log GDP per capita\": 11.024, \"Social support\": 0.904, \"Healthy life expectancy at birth\": 66.225, \"Freedom to make life choices\": 0.825, \"Generosity\": 0.112, \"Perceptions of corruption\": 0.71, \"Positive affect\": 0.757, \"Negative affect\": 0.292}, {\"Country name\": \"United States\", \"year\": 2019, \"Life Ladder\": 6.944, \"Log GDP per capita\": 11.043, \"Social support\": 0.917, \"Healthy life expectancy at birth\": 66.1, \"Freedom to make life choices\": 0.836, \"Generosity\": 0.14, \"Perceptions of corruption\": 0.707, \"Positive affect\": 0.755, \"Negative affect\": 0.244}, {\"Country name\": \"United States\", \"year\": 2020, \"Life Ladder\": 7.028, \"Log GDP per capita\": 11.005, \"Social support\": 0.937, \"Healthy life expectancy at birth\": 65.975, \"Freedom to make life choices\": 0.85, \"Generosity\": 0.029, \"Perceptions of corruption\": 0.678, \"Positive affect\": 0.722, \"Negative affect\": 0.295}, {\"Country name\": \"United States\", \"year\": 2021, \"Life Ladder\": 6.959, \"Log GDP per capita\": 11.061, \"Social support\": 0.92, \"Healthy life expectancy at birth\": 65.85, \"Freedom to make life choices\": 0.816, \"Generosity\": 0.19, \"Perceptions of corruption\": 0.687, \"Positive affect\": 0.74, \"Negative affect\": 0.277}, {\"Country name\": \"United States\", \"year\": 2022, \"Life Ladder\": 6.693, \"Log GDP per capita\": 11.079, \"Social support\": 0.9, \"Healthy life expectancy at birth\": 65.725, \"Freedom to make life choices\": 0.736, \"Generosity\": 0.191, \"Perceptions of corruption\": 0.701, \"Positive affect\": 0.712, \"Negative affect\": 0.267}], \"data-eb74b13b2d625b129649f33658dfa694\": [{\"x\": 2020}]}}, {\"mode\": \"vega-lite\"});\n",
              "</script>"
            ],
            "text/plain": [
              "alt.HConcatChart(...)"
            ]
          },
          "metadata": {},
          "execution_count": 23
        }
      ]
    },
    {
      "cell_type": "markdown",
      "source": [
        "# China"
      ],
      "metadata": {
        "id": "D5QlrocEL2Oy"
      }
    },
    {
      "cell_type": "code",
      "source": [
        "# Selecting China's Data\n",
        "happy_china = happy[happy['Country name'] == 'China']\n",
        "\n",
        "# Plot figures\n",
        "life_ladder_china = alt.Chart(happy_china).mark_line(point={\"fill\": \"salmon\"}, color = 'salmon').encode(\n",
        "    x = alt.X('year', title = 'Year', scale = alt.Scale(domain = (2005, 2022))),\n",
        "    y = alt.Y('Life Ladder', scale = alt.Scale(domain = (3, 10))),\n",
        ").properties(title = 'Life Ladder vs Year in China', width = 250, height = 250) + vertical_line\n",
        "\n",
        "positive_china = alt.Chart(happy_china).mark_line(point={\"fill\": \"blue\"}, color='blue').encode(\n",
        "    x = alt.X('year', title = 'Year', scale = alt.Scale(domain = (2005, 2022))),\n",
        "    y = alt.Y('Positive affect', title='Positive Affect', scale = alt.Scale(domain = (0, 1))),\n",
        ").properties(title = 'Positive affect vs Year in China', width = 250, height = 250)  + vertical_line\n",
        "\n",
        "negative_china = alt.Chart(happy_china).mark_line(point={\"fill\": \"green\"}, color = 'green').encode(\n",
        "    x = alt.X('year', title = 'Year', scale = alt.Scale(domain = (2005, 2022))),\n",
        "    y = alt.Y('Negative affect', title='Negative Affect', scale = alt.Scale(domain = (0, 1))),\n",
        ").properties(title = 'Negative affect vs Year in China', width = 250, height = 250)  + vertical_line\n",
        "\n",
        "# Viewing\n",
        "# pos_neg = alt.layer(positive, negative)\n",
        "alt.hconcat(life_ladder_china, positive_china, negative_china)"
      ],
      "metadata": {
        "colab": {
          "base_uri": "https://localhost:8080/",
          "height": 338
        },
        "id": "oua0KHs1MPR4",
        "outputId": "00aa300a-3ae0-47c7-a0bc-60c395a9a91c"
      },
      "execution_count": 25,
      "outputs": [
        {
          "output_type": "execute_result",
          "data": {
            "text/html": [
              "\n",
              "<div id=\"altair-viz-ef68b97910f841b0b0780cd067664c86\"></div>\n",
              "<script type=\"text/javascript\">\n",
              "  var VEGA_DEBUG = (typeof VEGA_DEBUG == \"undefined\") ? {} : VEGA_DEBUG;\n",
              "  (function(spec, embedOpt){\n",
              "    let outputDiv = document.currentScript.previousElementSibling;\n",
              "    if (outputDiv.id !== \"altair-viz-ef68b97910f841b0b0780cd067664c86\") {\n",
              "      outputDiv = document.getElementById(\"altair-viz-ef68b97910f841b0b0780cd067664c86\");\n",
              "    }\n",
              "    const paths = {\n",
              "      \"vega\": \"https://cdn.jsdelivr.net/npm//vega@5?noext\",\n",
              "      \"vega-lib\": \"https://cdn.jsdelivr.net/npm//vega-lib?noext\",\n",
              "      \"vega-lite\": \"https://cdn.jsdelivr.net/npm//vega-lite@4.17.0?noext\",\n",
              "      \"vega-embed\": \"https://cdn.jsdelivr.net/npm//vega-embed@6?noext\",\n",
              "    };\n",
              "\n",
              "    function maybeLoadScript(lib, version) {\n",
              "      var key = `${lib.replace(\"-\", \"\")}_version`;\n",
              "      return (VEGA_DEBUG[key] == version) ?\n",
              "        Promise.resolve(paths[lib]) :\n",
              "        new Promise(function(resolve, reject) {\n",
              "          var s = document.createElement('script');\n",
              "          document.getElementsByTagName(\"head\")[0].appendChild(s);\n",
              "          s.async = true;\n",
              "          s.onload = () => {\n",
              "            VEGA_DEBUG[key] = version;\n",
              "            return resolve(paths[lib]);\n",
              "          };\n",
              "          s.onerror = () => reject(`Error loading script: ${paths[lib]}`);\n",
              "          s.src = paths[lib];\n",
              "        });\n",
              "    }\n",
              "\n",
              "    function showError(err) {\n",
              "      outputDiv.innerHTML = `<div class=\"error\" style=\"color:red;\">${err}</div>`;\n",
              "      throw err;\n",
              "    }\n",
              "\n",
              "    function displayChart(vegaEmbed) {\n",
              "      vegaEmbed(outputDiv, spec, embedOpt)\n",
              "        .catch(err => showError(`Javascript Error: ${err.message}<br>This usually means there's a typo in your chart specification. See the javascript console for the full traceback.`));\n",
              "    }\n",
              "\n",
              "    if(typeof define === \"function\" && define.amd) {\n",
              "      requirejs.config({paths});\n",
              "      require([\"vega-embed\"], displayChart, err => showError(`Error loading script: ${err.message}`));\n",
              "    } else {\n",
              "      maybeLoadScript(\"vega\", \"5\")\n",
              "        .then(() => maybeLoadScript(\"vega-lite\", \"4.17.0\"))\n",
              "        .then(() => maybeLoadScript(\"vega-embed\", \"6\"))\n",
              "        .catch(showError)\n",
              "        .then(() => displayChart(vegaEmbed));\n",
              "    }\n",
              "  })({\"config\": {\"view\": {\"continuousWidth\": 400, \"continuousHeight\": 300}}, \"hconcat\": [{\"layer\": [{\"data\": {\"name\": \"data-f1f314c66eaae40e17f14f25fdcaa0de\"}, \"mark\": {\"type\": \"line\", \"color\": \"salmon\", \"point\": {\"fill\": \"salmon\"}}, \"encoding\": {\"x\": {\"field\": \"year\", \"scale\": {\"domain\": [2005, 2022]}, \"title\": \"Year\", \"type\": \"quantitative\"}, \"y\": {\"field\": \"Life Ladder\", \"scale\": {\"domain\": [3, 10]}, \"type\": \"quantitative\"}}, \"height\": 250, \"title\": \"Life Ladder vs Year in China\", \"width\": 250}, {\"data\": {\"name\": \"data-eb74b13b2d625b129649f33658dfa694\"}, \"mark\": {\"type\": \"rule\", \"color\": \"red\", \"opacity\": 0.5}, \"encoding\": {\"x\": {\"field\": \"x\", \"type\": \"quantitative\"}}}]}, {\"layer\": [{\"data\": {\"name\": \"data-f1f314c66eaae40e17f14f25fdcaa0de\"}, \"mark\": {\"type\": \"line\", \"color\": \"blue\", \"point\": {\"fill\": \"blue\"}}, \"encoding\": {\"x\": {\"field\": \"year\", \"scale\": {\"domain\": [2005, 2022]}, \"title\": \"Year\", \"type\": \"quantitative\"}, \"y\": {\"field\": \"Positive affect\", \"scale\": {\"domain\": [0, 1]}, \"title\": \"Positive Affect\", \"type\": \"quantitative\"}}, \"height\": 250, \"title\": \"Positive affect vs Year in China\", \"width\": 250}, {\"data\": {\"name\": \"data-eb74b13b2d625b129649f33658dfa694\"}, \"mark\": {\"type\": \"rule\", \"color\": \"red\", \"opacity\": 0.5}, \"encoding\": {\"x\": {\"field\": \"x\", \"type\": \"quantitative\"}}}]}, {\"layer\": [{\"data\": {\"name\": \"data-f1f314c66eaae40e17f14f25fdcaa0de\"}, \"mark\": {\"type\": \"line\", \"color\": \"green\", \"point\": {\"fill\": \"green\"}}, \"encoding\": {\"x\": {\"field\": \"year\", \"scale\": {\"domain\": [2005, 2022]}, \"title\": \"Year\", \"type\": \"quantitative\"}, \"y\": {\"field\": \"Negative affect\", \"scale\": {\"domain\": [0, 1]}, \"title\": \"Negative Affect\", \"type\": \"quantitative\"}}, \"height\": 250, \"title\": \"Negative affect vs Year in China\", \"width\": 250}, {\"data\": {\"name\": \"data-eb74b13b2d625b129649f33658dfa694\"}, \"mark\": {\"type\": \"rule\", \"color\": \"red\", \"opacity\": 0.5}, \"encoding\": {\"x\": {\"field\": \"x\", \"type\": \"quantitative\"}}}]}], \"$schema\": \"https://vega.github.io/schema/vega-lite/v4.17.0.json\", \"datasets\": {\"data-f1f314c66eaae40e17f14f25fdcaa0de\": [{\"Country name\": \"China\", \"year\": 2006, \"Life Ladder\": 4.56, \"Log GDP per capita\": 8.696, \"Social support\": 0.747, \"Healthy life expectancy at birth\": 65.66, \"Freedom to make life choices\": null, \"Generosity\": null, \"Perceptions of corruption\": null, \"Positive affect\": 0.658, \"Negative affect\": 0.17}, {\"Country name\": \"China\", \"year\": 2007, \"Life Ladder\": 4.863, \"Log GDP per capita\": 8.824, \"Social support\": 0.811, \"Healthy life expectancy at birth\": 65.92, \"Freedom to make life choices\": null, \"Generosity\": -0.179, \"Perceptions of corruption\": null, \"Positive affect\": 0.664, \"Negative affect\": 0.159}, {\"Country name\": \"China\", \"year\": 2008, \"Life Ladder\": 4.846, \"Log GDP per capita\": 8.911, \"Social support\": 0.748, \"Healthy life expectancy at birth\": 66.18, \"Freedom to make life choices\": 0.853, \"Generosity\": -0.095, \"Perceptions of corruption\": null, \"Positive affect\": 0.705, \"Negative affect\": 0.147}, {\"Country name\": \"China\", \"year\": 2009, \"Life Ladder\": 4.454, \"Log GDP per capita\": 8.996, \"Social support\": 0.798, \"Healthy life expectancy at birth\": 66.44, \"Freedom to make life choices\": 0.771, \"Generosity\": -0.163, \"Perceptions of corruption\": null, \"Positive affect\": 0.67, \"Negative affect\": 0.162}, {\"Country name\": \"China\", \"year\": 2010, \"Life Ladder\": 4.653, \"Log GDP per capita\": 9.092, \"Social support\": 0.768, \"Healthy life expectancy at birth\": 66.7, \"Freedom to make life choices\": 0.805, \"Generosity\": -0.136, \"Perceptions of corruption\": null, \"Positive affect\": 0.658, \"Negative affect\": 0.158}, {\"Country name\": \"China\", \"year\": 2011, \"Life Ladder\": 5.037, \"Log GDP per capita\": 9.178, \"Social support\": 0.787, \"Healthy life expectancy at birth\": 66.96, \"Freedom to make life choices\": 0.824, \"Generosity\": -0.189, \"Perceptions of corruption\": null, \"Positive affect\": 0.71, \"Negative affect\": 0.134}, {\"Country name\": \"China\", \"year\": 2012, \"Life Ladder\": 5.095, \"Log GDP per capita\": 9.247, \"Social support\": 0.788, \"Healthy life expectancy at birth\": 67.22, \"Freedom to make life choices\": 0.808, \"Generosity\": -0.187, \"Perceptions of corruption\": null, \"Positive affect\": 0.689, \"Negative affect\": 0.159}, {\"Country name\": \"China\", \"year\": 2013, \"Life Ladder\": 5.241, \"Log GDP per capita\": 9.315, \"Social support\": 0.778, \"Healthy life expectancy at birth\": 67.48, \"Freedom to make life choices\": 0.805, \"Generosity\": -0.161, \"Perceptions of corruption\": null, \"Positive affect\": 0.717, \"Negative affect\": 0.142}, {\"Country name\": \"China\", \"year\": 2014, \"Life Ladder\": 5.196, \"Log GDP per capita\": 9.38, \"Social support\": 0.82, \"Healthy life expectancy at birth\": 67.74, \"Freedom to make life choices\": null, \"Generosity\": -0.219, \"Perceptions of corruption\": null, \"Positive affect\": 0.71, \"Negative affect\": 0.112}, {\"Country name\": \"China\", \"year\": 2015, \"Life Ladder\": 5.304, \"Log GDP per capita\": 9.442, \"Social support\": 0.794, \"Healthy life expectancy at birth\": 68.0, \"Freedom to make life choices\": null, \"Generosity\": -0.247, \"Perceptions of corruption\": null, \"Positive affect\": 0.667, \"Negative affect\": 0.171}, {\"Country name\": \"China\", \"year\": 2016, \"Life Ladder\": 5.325, \"Log GDP per capita\": 9.503, \"Social support\": 0.742, \"Healthy life expectancy at birth\": 68.125, \"Freedom to make life choices\": null, \"Generosity\": -0.23, \"Perceptions of corruption\": null, \"Positive affect\": 0.683, \"Negative affect\": 0.146}, {\"Country name\": \"China\", \"year\": 2017, \"Life Ladder\": 5.099, \"Log GDP per capita\": 9.564, \"Social support\": 0.772, \"Healthy life expectancy at birth\": 68.25, \"Freedom to make life choices\": 0.878, \"Generosity\": -0.178, \"Perceptions of corruption\": null, \"Positive affect\": 0.682, \"Negative affect\": 0.214}, {\"Country name\": \"China\", \"year\": 2018, \"Life Ladder\": 5.131, \"Log GDP per capita\": 9.625, \"Social support\": 0.788, \"Healthy life expectancy at birth\": 68.375, \"Freedom to make life choices\": 0.895, \"Generosity\": -0.161, \"Perceptions of corruption\": null, \"Positive affect\": 0.722, \"Negative affect\": 0.19}, {\"Country name\": \"China\", \"year\": 2019, \"Life Ladder\": 5.144, \"Log GDP per capita\": 9.679, \"Social support\": 0.822, \"Healthy life expectancy at birth\": 68.5, \"Freedom to make life choices\": 0.927, \"Generosity\": -0.176, \"Perceptions of corruption\": null, \"Positive affect\": 0.76, \"Negative affect\": 0.147}, {\"Country name\": \"China\", \"year\": 2020, \"Life Ladder\": 5.771, \"Log GDP per capita\": 9.699, \"Social support\": 0.808, \"Healthy life expectancy at birth\": 68.625, \"Freedom to make life choices\": 0.891, \"Generosity\": -0.106, \"Perceptions of corruption\": null, \"Positive affect\": 0.663, \"Negative affect\": 0.245}, {\"Country name\": \"China\", \"year\": 2021, \"Life Ladder\": 5.863, \"Log GDP per capita\": 9.776, \"Social support\": 0.856, \"Healthy life expectancy at birth\": 68.75, \"Freedom to make life choices\": 0.875, \"Generosity\": 0.022, \"Perceptions of corruption\": null, \"Positive affect\": 0.698, \"Negative affect\": 0.24}], \"data-eb74b13b2d625b129649f33658dfa694\": [{\"x\": 2020}]}}, {\"mode\": \"vega-lite\"});\n",
              "</script>"
            ],
            "text/plain": [
              "alt.HConcatChart(...)"
            ]
          },
          "metadata": {},
          "execution_count": 25
        }
      ]
    },
    {
      "cell_type": "markdown",
      "source": [
        "## Predicting Life Ladder from log GDP in Israel"
      ],
      "metadata": {
        "id": "y9VnZqv5C-rm"
      }
    },
    {
      "cell_type": "code",
      "source": [
        "# retrieve response\n",
        "y = happy_israel['Life Ladder']\n",
        "\n",
        "# construct explanatory variable matrix\n",
        "x = sm.tools.add_constant(happy_israel['Log GDP per capita'])\n",
        "\n",
        "# fit model\n",
        "slr = sm.OLS(endog = y, exog = x)\n",
        "rslt = slr.fit()\n",
        "\n",
        "# Adding fitted values to dataframe\n",
        "happy_israel['fitted_vals'] = rslt.fittedvalues\n",
        "\n",
        "# Predicting\n",
        "preds = rslt.get_prediction(x)\n",
        "\n",
        "# Adding confidence interval and predictions to dataframe\n",
        "happy_israel['lwr_mean'] = preds.predicted_mean - 2*preds.se_mean\n",
        "happy_israel['upr_mean'] = preds.predicted_mean + 2*preds.se_mean\n",
        "happy_israel['prediction'] = preds.predicted_mean\n",
        "\n",
        "# constructing linear reg plot\n",
        "slr_line = alt.Chart(happy_israel).mark_line(color = 'black').encode(\n",
        "    x = 'Log GDP per capita',\n",
        "    y = 'prediction'\n",
        ")\n",
        "\n",
        "# constructing a confidence band\n",
        "band = alt.Chart(happy_israel).mark_area(opacity = 0.5, color = 'red').encode(\n",
        "    x = 'Log GDP per capita',\n",
        "    y = 'lwr_mean',\n",
        "    y2 = 'upr_mean'\n",
        ")\n",
        "\n",
        "# Log GDP per capita vs Life Ladder\n",
        "plot = alt.Chart(happy_israel).mark_point(opacity = 1, color = 'navy').encode(\n",
        "    x = alt.X('Log GDP per capita', scale = alt.Scale(domain = (10.3, 10.8))),\n",
        "    y = alt.Y('Life Ladder', scale = alt.Scale(domain = (0, 10)))\n",
        ").properties(title = 'Log GDP per capita vs Life Ladder')\n",
        "\n",
        "# layering\n",
        "plot + slr_line + band "
      ],
      "metadata": {
        "id": "GhkI3mMaAy3-",
        "colab": {
          "base_uri": "https://localhost:8080/",
          "height": 386
        },
        "outputId": "c3cbf12a-a5ac-4a8e-d456-e48b730d90c6"
      },
      "execution_count": 26,
      "outputs": [
        {
          "output_type": "execute_result",
          "data": {
            "text/html": [
              "\n",
              "<div id=\"altair-viz-db9823f7a6fc488386a42fc132fcff77\"></div>\n",
              "<script type=\"text/javascript\">\n",
              "  var VEGA_DEBUG = (typeof VEGA_DEBUG == \"undefined\") ? {} : VEGA_DEBUG;\n",
              "  (function(spec, embedOpt){\n",
              "    let outputDiv = document.currentScript.previousElementSibling;\n",
              "    if (outputDiv.id !== \"altair-viz-db9823f7a6fc488386a42fc132fcff77\") {\n",
              "      outputDiv = document.getElementById(\"altair-viz-db9823f7a6fc488386a42fc132fcff77\");\n",
              "    }\n",
              "    const paths = {\n",
              "      \"vega\": \"https://cdn.jsdelivr.net/npm//vega@5?noext\",\n",
              "      \"vega-lib\": \"https://cdn.jsdelivr.net/npm//vega-lib?noext\",\n",
              "      \"vega-lite\": \"https://cdn.jsdelivr.net/npm//vega-lite@4.17.0?noext\",\n",
              "      \"vega-embed\": \"https://cdn.jsdelivr.net/npm//vega-embed@6?noext\",\n",
              "    };\n",
              "\n",
              "    function maybeLoadScript(lib, version) {\n",
              "      var key = `${lib.replace(\"-\", \"\")}_version`;\n",
              "      return (VEGA_DEBUG[key] == version) ?\n",
              "        Promise.resolve(paths[lib]) :\n",
              "        new Promise(function(resolve, reject) {\n",
              "          var s = document.createElement('script');\n",
              "          document.getElementsByTagName(\"head\")[0].appendChild(s);\n",
              "          s.async = true;\n",
              "          s.onload = () => {\n",
              "            VEGA_DEBUG[key] = version;\n",
              "            return resolve(paths[lib]);\n",
              "          };\n",
              "          s.onerror = () => reject(`Error loading script: ${paths[lib]}`);\n",
              "          s.src = paths[lib];\n",
              "        });\n",
              "    }\n",
              "\n",
              "    function showError(err) {\n",
              "      outputDiv.innerHTML = `<div class=\"error\" style=\"color:red;\">${err}</div>`;\n",
              "      throw err;\n",
              "    }\n",
              "\n",
              "    function displayChart(vegaEmbed) {\n",
              "      vegaEmbed(outputDiv, spec, embedOpt)\n",
              "        .catch(err => showError(`Javascript Error: ${err.message}<br>This usually means there's a typo in your chart specification. See the javascript console for the full traceback.`));\n",
              "    }\n",
              "\n",
              "    if(typeof define === \"function\" && define.amd) {\n",
              "      requirejs.config({paths});\n",
              "      require([\"vega-embed\"], displayChart, err => showError(`Error loading script: ${err.message}`));\n",
              "    } else {\n",
              "      maybeLoadScript(\"vega\", \"5\")\n",
              "        .then(() => maybeLoadScript(\"vega-lite\", \"4.17.0\"))\n",
              "        .then(() => maybeLoadScript(\"vega-embed\", \"6\"))\n",
              "        .catch(showError)\n",
              "        .then(() => displayChart(vegaEmbed));\n",
              "    }\n",
              "  })({\"config\": {\"view\": {\"continuousWidth\": 400, \"continuousHeight\": 300}}, \"layer\": [{\"mark\": {\"type\": \"point\", \"color\": \"navy\", \"opacity\": 1}, \"encoding\": {\"x\": {\"field\": \"Log GDP per capita\", \"scale\": {\"domain\": [10.3, 10.8]}, \"type\": \"quantitative\"}, \"y\": {\"field\": \"Life Ladder\", \"scale\": {\"domain\": [0, 10]}, \"type\": \"quantitative\"}}, \"title\": \"Log GDP per capita vs Life Ladder\"}, {\"mark\": {\"type\": \"line\", \"color\": \"black\"}, \"encoding\": {\"x\": {\"field\": \"Log GDP per capita\", \"type\": \"quantitative\"}, \"y\": {\"field\": \"prediction\", \"type\": \"quantitative\"}}}, {\"mark\": {\"type\": \"area\", \"color\": \"red\", \"opacity\": 0.5}, \"encoding\": {\"x\": {\"field\": \"Log GDP per capita\", \"type\": \"quantitative\"}, \"y\": {\"field\": \"lwr_mean\", \"type\": \"quantitative\"}, \"y2\": {\"field\": \"upr_mean\"}}}], \"data\": {\"name\": \"data-4b30c3c1f0bd8de2d692130a55d378e2\"}, \"$schema\": \"https://vega.github.io/schema/vega-lite/v4.17.0.json\", \"datasets\": {\"data-4b30c3c1f0bd8de2d692130a55d378e2\": [{\"Country name\": \"Israel\", \"year\": 2006, \"Life Ladder\": 7.173, \"Log GDP per capita\": 10.359, \"Social support\": 0.927, \"Healthy life expectancy at birth\": 71.08, \"Freedom to make life choices\": 0.817, \"Generosity\": null, \"Perceptions of corruption\": 0.905, \"Positive affect\": 0.639, \"Negative affect\": 0.308, \"fitted_vals\": 7.126488989009238, \"lwr_mean\": 6.936679997540197, \"upr_mean\": 7.3162979804782795, \"prediction\": 7.126488989009238}, {\"Country name\": \"Israel\", \"year\": 2007, \"Life Ladder\": 6.841, \"Log GDP per capita\": 10.4, \"Social support\": 0.868, \"Healthy life expectancy at birth\": 71.16, \"Freedom to make life choices\": 0.683, \"Generosity\": 0.217, \"Perceptions of corruption\": 0.868, \"Positive affect\": 0.642, \"Negative affect\": 0.32, \"fitted_vals\": 7.162870524890926, \"lwr_mean\": 7.0083352229592215, \"upr_mean\": 7.317405826822631, \"prediction\": 7.162870524890926}, {\"Country name\": \"Israel\", \"year\": 2008, \"Life Ladder\": 7.261, \"Log GDP per capita\": 10.414, \"Social support\": 0.859, \"Healthy life expectancy at birth\": 71.24, \"Freedom to make life choices\": 0.663, \"Generosity\": 0.136, \"Perceptions of corruption\": 0.898, \"Positive affect\": 0.635, \"Negative affect\": 0.349, \"fitted_vals\": 7.175293488362722, \"lwr_mean\": 7.031869967950132, \"upr_mean\": 7.3187170087753115, \"prediction\": 7.175293488362722}, {\"Country name\": \"Israel\", \"year\": 2009, \"Life Ladder\": 7.353, \"Log GDP per capita\": 10.399, \"Social support\": 0.937, \"Healthy life expectancy at birth\": 71.32, \"Freedom to make life choices\": 0.593, \"Generosity\": 0.17, \"Perceptions of corruption\": 0.923, \"Positive affect\": 0.62, \"Negative affect\": 0.327, \"fitted_vals\": 7.161983170357225, \"lwr_mean\": 7.006632123790356, \"upr_mean\": 7.3173342169240945, \"prediction\": 7.161983170357225}, {\"Country name\": \"Israel\", \"year\": 2010, \"Life Ladder\": 7.359, \"Log GDP per capita\": 10.436, \"Social support\": 0.882, \"Healthy life expectancy at birth\": 71.4, \"Freedom to make life choices\": 0.561, \"Generosity\": 0.148, \"Perceptions of corruption\": 0.902, \"Positive affect\": 0.628, \"Negative affect\": 0.362, \"fitted_vals\": 7.194815288104116, \"lwr_mean\": 7.067425716776247, \"upr_mean\": 7.322204859431984, \"prediction\": 7.194815288104116}, {\"Country name\": \"Israel\", \"year\": 2011, \"Life Ladder\": 7.433, \"Log GDP per capita\": 10.472, \"Social support\": 0.893, \"Healthy life expectancy at birth\": 71.48, \"Freedom to make life choices\": 0.722, \"Generosity\": 0.138, \"Perceptions of corruption\": 0.891, \"Positive affect\": 0.654, \"Negative affect\": 0.384, \"fitted_vals\": 7.226760051317304, \"lwr_mean\": 7.120029340154608, \"upr_mean\": 7.333490762479999, \"prediction\": 7.226760051317304}, {\"Country name\": \"Israel\", \"year\": 2012, \"Life Ladder\": 7.111, \"Log GDP per capita\": 10.479, \"Social support\": 0.903, \"Healthy life expectancy at birth\": 71.56, \"Freedom to make life choices\": 0.681, \"Generosity\": 0.15, \"Perceptions of corruption\": 0.862, \"Positive affect\": 0.611, \"Negative affect\": 0.319, \"fitted_vals\": 7.232971533053202, \"lwr_mean\": 7.1291541837661665, \"upr_mean\": 7.336788882340237, \"prediction\": 7.232971533053202}, {\"Country name\": \"Israel\", \"year\": 2013, \"Life Ladder\": 7.321, \"Log GDP per capita\": 10.503, \"Social support\": 0.909, \"Healthy life expectancy at birth\": 71.64, \"Freedom to make life choices\": 0.739, \"Generosity\": 0.147, \"Perceptions of corruption\": 0.849, \"Positive affect\": 0.649, \"Negative affect\": 0.409, \"fitted_vals\": 7.254268041861995, \"lwr_mean\": 7.156885508811244, \"upr_mean\": 7.351650574912747, \"prediction\": 7.254268041861995}, {\"Country name\": \"Israel\", \"year\": 2014, \"Life Ladder\": 7.401, \"Log GDP per capita\": 10.523, \"Social support\": 0.889, \"Healthy life expectancy at birth\": 71.72, \"Freedom to make life choices\": 0.707, \"Generosity\": 0.09, \"Perceptions of corruption\": 0.818, \"Positive affect\": 0.567, \"Negative affect\": 0.271, \"fitted_vals\": 7.27201513253599, \"lwr_mean\": 7.175264737935935, \"upr_mean\": 7.368765527136045, \"prediction\": 7.27201513253599}, {\"Country name\": \"Israel\", \"year\": 2015, \"Life Ladder\": 7.079, \"Log GDP per capita\": 10.527, \"Social support\": 0.864, \"Healthy life expectancy at birth\": 71.8, \"Freedom to make life choices\": 0.753, \"Generosity\": 0.105, \"Perceptions of corruption\": 0.789, \"Positive affect\": 0.652, \"Negative affect\": 0.256, \"fitted_vals\": 7.275564550670787, \"lwr_mean\": 7.178402798254826, \"upr_mean\": 7.372726303086749, \"prediction\": 7.275564550670787}, {\"Country name\": \"Israel\", \"year\": 2016, \"Life Ladder\": 7.159, \"Log GDP per capita\": 10.552, \"Social support\": 0.89, \"Healthy life expectancy at birth\": 71.95, \"Freedom to make life choices\": 0.772, \"Generosity\": 0.149, \"Perceptions of corruption\": 0.804, \"Positive affect\": 0.602, \"Negative affect\": 0.263, \"fitted_vals\": 7.29774841401328, \"lwr_mean\": 7.194178546799521, \"upr_mean\": 7.401318281227039, \"prediction\": 7.29774841401328}, {\"Country name\": \"Israel\", \"year\": 2017, \"Life Ladder\": 7.331, \"Log GDP per capita\": 10.574, \"Social support\": 0.916, \"Healthy life expectancy at birth\": 72.1, \"Freedom to make life choices\": 0.768, \"Generosity\": 0.141, \"Perceptions of corruption\": 0.793, \"Positive affect\": 0.621, \"Negative affect\": 0.276, \"fitted_vals\": 7.317270213754674, \"lwr_mean\": 7.203330807522785, \"upr_mean\": 7.431209619986563, \"prediction\": 7.317270213754674}, {\"Country name\": \"Israel\", \"year\": 2018, \"Life Ladder\": 6.927, \"Log GDP per capita\": 10.595, \"Social support\": 0.91, \"Healthy life expectancy at birth\": 72.25, \"Freedom to make life choices\": 0.725, \"Generosity\": 0.05, \"Perceptions of corruption\": 0.77, \"Positive affect\": 0.612, \"Negative affect\": 0.282, \"fitted_vals\": 7.3359046589623675, \"lwr_mean\": 7.208954615063376, \"upr_mean\": 7.462854702861359, \"prediction\": 7.3359046589623675}, {\"Country name\": \"Israel\", \"year\": 2019, \"Life Ladder\": 7.332, \"Log GDP per capita\": 10.617, \"Social support\": 0.946, \"Healthy life expectancy at birth\": 72.4, \"Freedom to make life choices\": 0.834, \"Generosity\": 0.08, \"Perceptions of corruption\": 0.743, \"Positive affect\": 0.598, \"Negative affect\": 0.266, \"fitted_vals\": 7.355426458703762, \"lwr_mean\": 7.212501367890357, \"upr_mean\": 7.498351549517166, \"prediction\": 7.355426458703762}, {\"Country name\": \"Israel\", \"year\": 2020, \"Life Ladder\": 7.195, \"Log GDP per capita\": 10.58, \"Social support\": 0.959, \"Healthy life expectancy at birth\": 72.55, \"Freedom to make life choices\": 0.831, \"Generosity\": -0.057, \"Perceptions of corruption\": 0.748, \"Positive affect\": 0.564, \"Negative affect\": 0.243, \"fitted_vals\": 7.322594340956873, \"lwr_mean\": 7.205206688006411, \"upr_mean\": 7.439981993907335, \"prediction\": 7.322594340956873}, {\"Country name\": \"Israel\", \"year\": 2021, \"Life Ladder\": 7.578, \"Log GDP per capita\": 10.647, \"Social support\": 0.917, \"Healthy life expectancy at birth\": 72.7, \"Freedom to make life choices\": 0.82, \"Generosity\": -0.006, \"Perceptions of corruption\": 0.726, \"Positive affect\": 0.558, \"Negative affect\": 0.217, \"fitted_vals\": 7.3820470947147525, \"lwr_mean\": 7.214710195138415, \"upr_mean\": 7.54938399429109, \"prediction\": 7.3820470947147525}, {\"Country name\": \"Israel\", \"year\": 2022, \"Life Ladder\": 7.662, \"Log GDP per capita\": 10.692, \"Social support\": 0.954, \"Healthy life expectancy at birth\": 72.85, \"Freedom to make life choices\": 0.775, \"Generosity\": -0.005, \"Perceptions of corruption\": 0.655, \"Positive affect\": 0.583, \"Negative affect\": 0.183, \"fitted_vals\": 7.421978048731238, \"lwr_mean\": 7.214541533027637, \"upr_mean\": 7.629414564434839, \"prediction\": 7.421978048731238}]}}, {\"mode\": \"vega-lite\"});\n",
              "</script>"
            ],
            "text/plain": [
              "alt.LayerChart(...)"
            ]
          },
          "metadata": {},
          "execution_count": 26
        }
      ]
    },
    {
      "cell_type": "markdown",
      "source": [
        "The black line in the plot above is the linear regression model which was trained on log GDP per capita, and predicts the Life Ladder. The red highlighting is the confidence interval. Given this model was trained on Israels data and is predicting those exact points there is a very high confidence on the prediction of the points and hence the small confidence interval. This is an indication that a linear model is very suitable for the data we have. "
      ],
      "metadata": {
        "id": "PPZ_ni74KArT"
      }
    },
    {
      "cell_type": "markdown",
      "source": [
        "# Predicting China's Life Ladder based on log GDP "
      ],
      "metadata": {
        "id": "fc7cKPqNLWHF"
      }
    },
    {
      "cell_type": "code",
      "source": [
        "# Adding constants to China explanatory variable\n",
        "x_us = sm.tools.add_constant(happy_us['Log GDP per capita'])\n",
        "\n",
        "# Predicting\n",
        "preds_us = rslt.get_prediction(x_us)\n",
        "\n",
        "# Adding confidence interval and predictions to dataframe\n",
        "happy_us['lwr_mean'] = preds_us.predicted_mean - 2*preds.se_mean\n",
        "happy_us['upr_mean'] = preds_us.predicted_mean + 2*preds.se_mean\n",
        "happy_us['prediction'] = preds_us.predicted_mean\n",
        "\n",
        "# constructing linear reg plot\n",
        "slr_line_us = alt.Chart(happy_us).mark_line(color = 'black').encode(\n",
        "    x = 'Log GDP per capita',\n",
        "    y = 'prediction'\n",
        ")\n",
        "\n",
        "# Constructing a confidence band\n",
        "band_us = alt.Chart(happy_us).mark_area(opacity = 0.5, color = 'red').encode(\n",
        "    x = 'Log GDP per capita',\n",
        "    y = 'lwr_mean',\n",
        "    y2 = 'upr_mean'\n",
        ")\n",
        "\n",
        "# Log GDP per capita vs Life Ladder \n",
        "plot_us = alt.Chart(happy_us).mark_point(opacity = 1, color = 'navy').encode(\n",
        "    x = alt.X('Log GDP per capita', scale = alt.Scale(domain = (10.5, 11.5))),\n",
        "    y = alt.Y('Life Ladder', scale = alt.Scale(domain = (5, 10)))\n",
        ").properties(title = 'Log GDP per capita vs Life Ladder in the US')\n",
        "\n",
        "# layering\n",
        "plot_us + slr_line_us + band_us"
      ],
      "metadata": {
        "colab": {
          "base_uri": "https://localhost:8080/",
          "height": 386
        },
        "id": "8pyCmMUSLeax",
        "outputId": "e018552b-f83f-40c6-c434-a84b295a35ce"
      },
      "execution_count": 27,
      "outputs": [
        {
          "output_type": "execute_result",
          "data": {
            "text/html": [
              "\n",
              "<div id=\"altair-viz-081a7689d69b4ee495309870786c5fee\"></div>\n",
              "<script type=\"text/javascript\">\n",
              "  var VEGA_DEBUG = (typeof VEGA_DEBUG == \"undefined\") ? {} : VEGA_DEBUG;\n",
              "  (function(spec, embedOpt){\n",
              "    let outputDiv = document.currentScript.previousElementSibling;\n",
              "    if (outputDiv.id !== \"altair-viz-081a7689d69b4ee495309870786c5fee\") {\n",
              "      outputDiv = document.getElementById(\"altair-viz-081a7689d69b4ee495309870786c5fee\");\n",
              "    }\n",
              "    const paths = {\n",
              "      \"vega\": \"https://cdn.jsdelivr.net/npm//vega@5?noext\",\n",
              "      \"vega-lib\": \"https://cdn.jsdelivr.net/npm//vega-lib?noext\",\n",
              "      \"vega-lite\": \"https://cdn.jsdelivr.net/npm//vega-lite@4.17.0?noext\",\n",
              "      \"vega-embed\": \"https://cdn.jsdelivr.net/npm//vega-embed@6?noext\",\n",
              "    };\n",
              "\n",
              "    function maybeLoadScript(lib, version) {\n",
              "      var key = `${lib.replace(\"-\", \"\")}_version`;\n",
              "      return (VEGA_DEBUG[key] == version) ?\n",
              "        Promise.resolve(paths[lib]) :\n",
              "        new Promise(function(resolve, reject) {\n",
              "          var s = document.createElement('script');\n",
              "          document.getElementsByTagName(\"head\")[0].appendChild(s);\n",
              "          s.async = true;\n",
              "          s.onload = () => {\n",
              "            VEGA_DEBUG[key] = version;\n",
              "            return resolve(paths[lib]);\n",
              "          };\n",
              "          s.onerror = () => reject(`Error loading script: ${paths[lib]}`);\n",
              "          s.src = paths[lib];\n",
              "        });\n",
              "    }\n",
              "\n",
              "    function showError(err) {\n",
              "      outputDiv.innerHTML = `<div class=\"error\" style=\"color:red;\">${err}</div>`;\n",
              "      throw err;\n",
              "    }\n",
              "\n",
              "    function displayChart(vegaEmbed) {\n",
              "      vegaEmbed(outputDiv, spec, embedOpt)\n",
              "        .catch(err => showError(`Javascript Error: ${err.message}<br>This usually means there's a typo in your chart specification. See the javascript console for the full traceback.`));\n",
              "    }\n",
              "\n",
              "    if(typeof define === \"function\" && define.amd) {\n",
              "      requirejs.config({paths});\n",
              "      require([\"vega-embed\"], displayChart, err => showError(`Error loading script: ${err.message}`));\n",
              "    } else {\n",
              "      maybeLoadScript(\"vega\", \"5\")\n",
              "        .then(() => maybeLoadScript(\"vega-lite\", \"4.17.0\"))\n",
              "        .then(() => maybeLoadScript(\"vega-embed\", \"6\"))\n",
              "        .catch(showError)\n",
              "        .then(() => displayChart(vegaEmbed));\n",
              "    }\n",
              "  })({\"config\": {\"view\": {\"continuousWidth\": 400, \"continuousHeight\": 300}}, \"layer\": [{\"mark\": {\"type\": \"point\", \"color\": \"navy\", \"opacity\": 1}, \"encoding\": {\"x\": {\"field\": \"Log GDP per capita\", \"scale\": {\"domain\": [10.5, 11.5]}, \"type\": \"quantitative\"}, \"y\": {\"field\": \"Life Ladder\", \"scale\": {\"domain\": [5, 10]}, \"type\": \"quantitative\"}}, \"title\": \"Log GDP per capita vs Life Ladder in the US\"}, {\"mark\": {\"type\": \"line\", \"color\": \"black\"}, \"encoding\": {\"x\": {\"field\": \"Log GDP per capita\", \"type\": \"quantitative\"}, \"y\": {\"field\": \"prediction\", \"type\": \"quantitative\"}}}, {\"mark\": {\"type\": \"area\", \"color\": \"red\", \"opacity\": 0.5}, \"encoding\": {\"x\": {\"field\": \"Log GDP per capita\", \"type\": \"quantitative\"}, \"y\": {\"field\": \"lwr_mean\", \"type\": \"quantitative\"}, \"y2\": {\"field\": \"upr_mean\"}}}], \"data\": {\"name\": \"data-0d7df974fe5e43ffc2adb4336c355de9\"}, \"$schema\": \"https://vega.github.io/schema/vega-lite/v4.17.0.json\", \"datasets\": {\"data-0d7df974fe5e43ffc2adb4336c355de9\": [{\"Country name\": \"United States\", \"year\": 2006, \"Life Ladder\": 7.182, \"Log GDP per capita\": 10.921, \"Social support\": 0.965, \"Healthy life expectancy at birth\": 66.78, \"Freedom to make life choices\": 0.911, \"Generosity\": null, \"Perceptions of corruption\": 0.6, \"Positive affect\": 0.775, \"Negative affect\": 0.261, \"lwr_mean\": 7.435373245479428, \"upr_mean\": 7.814991228417511, \"prediction\": 7.625182236948469}, {\"Country name\": \"United States\", \"year\": 2007, \"Life Ladder\": 7.513, \"Log GDP per capita\": 10.931, \"Social support\": null, \"Healthy life expectancy at birth\": 66.76, \"Freedom to make life choices\": 0.872, \"Generosity\": 0.193, \"Perceptions of corruption\": 0.633, \"Positive affect\": 0.756, \"Negative affect\": 0.232, \"lwr_mean\": 7.479520480353761, \"upr_mean\": 7.78859108421717, \"prediction\": 7.634055782285466}, {\"Country name\": \"United States\", \"year\": 2008, \"Life Ladder\": 7.28, \"Log GDP per capita\": 10.923, \"Social support\": 0.953, \"Healthy life expectancy at birth\": 66.74, \"Freedom to make life choices\": 0.878, \"Generosity\": 0.25, \"Perceptions of corruption\": 0.668, \"Positive affect\": 0.774, \"Negative affect\": 0.227, \"lwr_mean\": 7.483533425603279, \"upr_mean\": 7.770380466428459, \"prediction\": 7.626956946015869}, {\"Country name\": \"United States\", \"year\": 2009, \"Life Ladder\": 7.158, \"Log GDP per capita\": 10.888, \"Social support\": 0.912, \"Healthy life expectancy at birth\": 66.72, \"Freedom to make life choices\": 0.831, \"Generosity\": 0.196, \"Perceptions of corruption\": 0.665, \"Positive affect\": 0.753, \"Negative affect\": 0.262, \"lwr_mean\": 7.440548490769511, \"upr_mean\": 7.751250583903249, \"prediction\": 7.59589953733638}, {\"Country name\": \"United States\", \"year\": 2010, \"Life Ladder\": 7.164, \"Log GDP per capita\": 10.906, \"Social support\": 0.926, \"Healthy life expectancy at birth\": 66.7, \"Freedom to make life choices\": 0.828, \"Generosity\": 0.239, \"Perceptions of corruption\": 0.69, \"Positive affect\": 0.776, \"Negative affect\": 0.231, \"lwr_mean\": 7.484482347615106, \"upr_mean\": 7.739261490270843, \"prediction\": 7.611871918942975}, {\"Country name\": \"United States\", \"year\": 2011, \"Life Ladder\": 7.115, \"Log GDP per capita\": 10.914, \"Social support\": 0.922, \"Healthy life expectancy at birth\": 66.68, \"Freedom to make life choices\": 0.863, \"Generosity\": 0.156, \"Perceptions of corruption\": 0.697, \"Positive affect\": 0.737, \"Negative affect\": 0.273, \"lwr_mean\": 7.512240044049876, \"upr_mean\": 7.725701466375267, \"prediction\": 7.618970755212572}, {\"Country name\": \"United States\", \"year\": 2012, \"Life Ladder\": 7.026, \"Log GDP per capita\": 10.93, \"Social support\": 0.903, \"Healthy life expectancy at birth\": 66.66, \"Freedom to make life choices\": 0.823, \"Generosity\": 0.21, \"Perceptions of corruption\": 0.71, \"Positive affect\": 0.765, \"Negative affect\": 0.26, \"lwr_mean\": 7.529351078464732, \"upr_mean\": 7.736985777038802, \"prediction\": 7.633168427751767}, {\"Country name\": \"United States\", \"year\": 2013, \"Life Ladder\": 7.249, \"Log GDP per capita\": 10.941, \"Social support\": 0.925, \"Healthy life expectancy at birth\": 66.64, \"Freedom to make life choices\": 0.792, \"Generosity\": 0.269, \"Perceptions of corruption\": 0.747, \"Positive affect\": 0.776, \"Negative affect\": 0.26, \"lwr_mean\": 7.545546794571712, \"upr_mean\": 7.7403118606732155, \"prediction\": 7.642929327622464}, {\"Country name\": \"United States\", \"year\": 2014, \"Life Ladder\": 7.151, \"Log GDP per capita\": 10.956, \"Social support\": 0.902, \"Healthy life expectancy at birth\": 66.62, \"Freedom to make life choices\": 0.866, \"Generosity\": 0.217, \"Perceptions of corruption\": 0.702, \"Positive affect\": 0.786, \"Negative affect\": 0.281, \"lwr_mean\": 7.5594892510279035, \"upr_mean\": 7.752990040228013, \"prediction\": 7.6562396456279584}, {\"Country name\": \"United States\", \"year\": 2015, \"Life Ladder\": 6.864, \"Log GDP per capita\": 10.976, \"Social support\": 0.904, \"Healthy life expectancy at birth\": 66.6, \"Freedom to make life choices\": 0.849, \"Generosity\": 0.215, \"Perceptions of corruption\": 0.698, \"Positive affect\": 0.769, \"Negative affect\": 0.275, \"lwr_mean\": 7.576824983885993, \"upr_mean\": 7.771148488717916, \"prediction\": 7.673986736301955}, {\"Country name\": \"United States\", \"year\": 2016, \"Life Ladder\": 6.804, \"Log GDP per capita\": 10.985, \"Social support\": 0.897, \"Healthy life expectancy at birth\": 66.475, \"Freedom to make life choices\": 0.758, \"Generosity\": 0.14, \"Perceptions of corruption\": 0.739, \"Positive affect\": 0.737, \"Negative affect\": 0.264, \"lwr_mean\": 7.5784030598914915, \"upr_mean\": 7.785542794319009, \"prediction\": 7.68197292710525}, {\"Country name\": \"United States\", \"year\": 2017, \"Life Ladder\": 6.992, \"Log GDP per capita\": 11.001, \"Social support\": 0.921, \"Healthy life expectancy at birth\": 66.35, \"Freedom to make life choices\": 0.868, \"Generosity\": 0.193, \"Perceptions of corruption\": 0.681, \"Positive affect\": 0.755, \"Negative affect\": 0.268, \"lwr_mean\": 7.582231193412556, \"upr_mean\": 7.810110005876335, \"prediction\": 7.696170599644446}, {\"Country name\": \"United States\", \"year\": 2018, \"Life Ladder\": 6.883, \"Log GDP per capita\": 11.024, \"Social support\": 0.904, \"Healthy life expectancy at birth\": 66.225, \"Freedom to make life choices\": 0.825, \"Generosity\": 0.112, \"Perceptions of corruption\": 0.71, \"Positive affect\": 0.757, \"Negative affect\": 0.292, \"lwr_mean\": 7.589629710020547, \"upr_mean\": 7.8435297978185305, \"prediction\": 7.716579753919539}, {\"Country name\": \"United States\", \"year\": 2019, \"Life Ladder\": 6.944, \"Log GDP per capita\": 11.043, \"Social support\": 0.917, \"Healthy life expectancy at birth\": 66.1, \"Freedom to make life choices\": 0.836, \"Generosity\": 0.14, \"Perceptions of corruption\": 0.707, \"Positive affect\": 0.755, \"Negative affect\": 0.244, \"lwr_mean\": 7.590514399246428, \"upr_mean\": 7.876364580873237, \"prediction\": 7.733439490059832}, {\"Country name\": \"United States\", \"year\": 2020, \"Life Ladder\": 7.028, \"Log GDP per capita\": 11.005, \"Social support\": 0.937, \"Healthy life expectancy at birth\": 65.975, \"Freedom to make life choices\": 0.85, \"Generosity\": 0.029, \"Perceptions of corruption\": 0.678, \"Positive affect\": 0.722, \"Negative affect\": 0.295, \"lwr_mean\": 7.582332364828783, \"upr_mean\": 7.8171076707297065, \"prediction\": 7.699720017779245}, {\"Country name\": \"United States\", \"year\": 2021, \"Life Ladder\": 6.959, \"Log GDP per capita\": 11.061, \"Social support\": 0.92, \"Healthy life expectancy at birth\": 65.85, \"Freedom to make life choices\": 0.816, \"Generosity\": 0.19, \"Perceptions of corruption\": 0.687, \"Positive affect\": 0.74, \"Negative affect\": 0.277, \"lwr_mean\": 7.58207497209009, \"upr_mean\": 7.916748771242765, \"prediction\": 7.749411871666427}, {\"Country name\": \"United States\", \"year\": 2022, \"Life Ladder\": 6.693, \"Log GDP per capita\": 11.079, \"Social support\": 0.9, \"Healthy life expectancy at birth\": 65.725, \"Freedom to make life choices\": 0.736, \"Generosity\": 0.191, \"Perceptions of corruption\": 0.701, \"Positive affect\": 0.712, \"Negative affect\": 0.267, \"lwr_mean\": 7.557947737569421, \"upr_mean\": 7.972820768976623, \"prediction\": 7.765384253273022}]}}, {\"mode\": \"vega-lite\"});\n",
              "</script>"
            ],
            "text/plain": [
              "alt.LayerChart(...)"
            ]
          },
          "metadata": {},
          "execution_count": 27
        }
      ]
    },
    {
      "cell_type": "markdown",
      "source": [
        "In the plot above we predicted the life ladder in the United States based on the Log GDP per capita. The black line is the linear regression model and it is obvious the model is not very accurate. This is likely because the linear regression model used was trained on Israel's data rather than the United States. This result tells us that a model trained on one countries data can be extremely inaccurate in predicting data points for another country. Furthermore, the wider confidence interval band in red indicates a less confident model as opposed to the previous model. "
      ],
      "metadata": {
        "id": "mPTLAvK7RKSr"
      }
    },
    {
      "cell_type": "markdown",
      "source": [
        "# Data Analysis"
      ],
      "metadata": {
        "id": "h8QdyxC0XWKk"
      }
    },
    {
      "cell_type": "markdown",
      "source": [
        "**Introduction**\n",
        "\n",
        "In this section, we will analyze the impact of the COVID-19 pandemic on overall happiness in the United States, Israel, and China. By examining the happiness scores and emotional experiences before, during, and after the pandemic, we aim to identify any similarities and differences in the effects of the pandemic on happiness across these countries.\n",
        "\n",
        "**Happiness Scores Analysis (Life Ladder)**\n",
        "\n",
        "The analysis of happiness scores before and during the pandemic reveals interesting insights about the impact of COVID-19 on overall happiness.\n",
        "\n",
        "In the United States, the happiness scores remained relatively stable from 2006 to 2019. However, a slight decline in happiness scores can be observed in 2020, coinciding with the outbreak and subsequent effects of the COVID-19 pandemic. Although the scores recovered slightly in 2021 and 2022, they did not reach the pre-pandemic levels. This suggests that the pandemic had a negative impact on overall happiness in the United States. This trend is clearlu visible in the graphics provided in the United States section above. \n",
        "\n",
        "Israel, on the other hand, experienced a different trend. The happiness scores in Israel remained consistently high throughout the years, including during the COVID-19 pandemic. There was no significant deviation from the pre-pandemic levels, indicating that the pandemic did not substantially affect overall happiness in Israel. The line charts show this interesting pattern by remaining relatively stable over time, or at least having only subtle changes from year to year. \n",
        "\n",
        "China's happiness scores also remained relatively stable throughout the pandemic period. Although there was a slight decrease in 2020, the scores quickly rebounded in 2021 and 2022, suggesting resilience and a relatively minor impact of the pandemic on overall happiness in China. This was a pretty interesting finding considering what our perception of China was in relation to its strict COVID restrictions. \n",
        "\n",
        "Graphics predicting each countries future life ladder scores based on log GDP can provide further interesting insight about what the post-pandemic world's happiness levels could look like. \n",
        "\n",
        "**Emotional Experiences Analysis (Positive and Negative Affect)**\n",
        "\n",
        "Examining the positive and negative affect during the pandemic period provides further insights into the specific emotional experiences within each country.\n",
        "\n",
        "In the United States, both positive and negative affect showed noticeable changes during the pandemic. The positive affect scores experienced a decline in 2020, indicating a reduction in positive emotions among the population. Similarly, the negative affect scores showed an increase, suggesting a rise in negative emotional experiences during the pandemic.\n",
        "\n",
        "Israel, however, displayed a different pattern. The positive affect scores remained consistently high, with no significant changes observed during the pandemic. Likewise, the negative affect scores remained low, indicating a limited presence of negative emotions throughout the pandemic period.\n",
        "\n",
        "China's positive affect scores showed a slight decline in 2020, indicating a temporary decrease in positive emotions during the pandemic. However, the scores quickly recovered in 2021 and 2022. The negative affect scores remained consistently low, suggesting that negative emotional experiences were limited in China during the pandemic.\n",
        "\n",
        "Again, all of these findings are visible in the line charts provided in each country's section in this report. The clear presenations make the trends described above very easy to see. \n",
        "\n",
        "**Similarities and Differences**\n",
        "\n",
        "Analyzing the impact of the COVID-19 pandemic on overall happiness in the United States, Israel, and China reveals both similarities and differences among these countries.\n",
        "\n",
        "Similarities:\n",
        "The United States and Israel both experienced a decline in happiness scores during the pandemic, however to slightly different extents. The positive affect scores in the United States and China showed a decline in 2020, indicating a temporary decrease in positive emotions during that wild year. However, China, Israel, and the United States all showed resilience and a relatively quick recovery in happiness scores and both positive and negative affect almost immediately after the initial impact of the pandemic.\n",
        "\n",
        "Differences: Israel's happiness scores remained consistently high, suggesting a minimal impact of the pandemic on overall happiness as measured by the World Happiness Report 2023. The United States experienced a more significant decline in happiness scores as well as a noticeable increase in negative affect during the pandemic.\n",
        "China displayed a relatively minor impact on happiness scores, with a only temporary decline in positive affect during the pandemic.\n",
        "\n",
        "**Limitations** \n",
        "\n",
        "A quick note on how this report and its findings could potentially be limited and what factors could lead to the trends we are viewing is neccessary before wrapping up with a conclusion. It is important to acknowledge that the analysis of the COVID-19 pandemic's impact on happiness is complex, influenced by various factors beyond the scope of this analysis. Factors such as specific government policies, healthcare systems, socioeconomic conditions, and cultural differences can contribute to the differences we see among the countries. Also, perhaps the way that the questions for each variable are phrased could be affecting how country citizens are responding to them. Maybe these questions aren't going deep enough into emotional issues around the global crisis so the true trends lie further within. Future research could go much deeper into the specific mechanisms through which the pandemic influenced happiness in each country. Exploring additional variables could definitely provide a more comprehensive understanding of the impact of the pandemic on overall happiness.\n",
        "\n",
        "**Conclusion**\n",
        "\n",
        "In conclusion, the analysis reveals that the COVID-19 pandemic had varying effects on overall happiness in the United States, Israel, and China. While the United States experienced a decline in happiness scores and an increase in negative affect, Israel and China displayed more resilience and minor fluctuations in happiness. These findings highlight the diverse impacts of the pandemic on national happiness levels and call for further investigation into the underlying factors contributing to these trends."
      ],
      "metadata": {
        "id": "qO9Cx7395STs"
      }
    },
    {
      "cell_type": "markdown",
      "source": [
        "# Summary of Findings"
      ],
      "metadata": {
        "id": "x6LPeDNuXa90"
      }
    },
    {
      "cell_type": "markdown",
      "source": [
        "An added layer of interest to the initial question is that the US, Israel, and China are all first world, relatively wealthy countries who act as major international figures. So, the respective effects of COVID-19 on national happiness can shed light on how powerful goverments with abundant resources handled the pandemic. In Israel, while the year 2020 saw a slight relative dip in life quality and positive emotion, there was an increase in both variables in the proceeding years 2021 and 2022. Addiotnally, the national feelings of negative emotions has been on a steady decline since 2019, and the pandemic did not seem to effect that trend. \n",
        "\n",
        "Next, looking at the United States, 2020 saw a slight increase in reported life quality, and a sharp decline from 2021-2022, with 2022 having the all-time lowest life quality since the beginning of the reported data. Though, it should also be noted that life quality has been on an overall decline since the beginning of the reported data. Negative effect did not have a strong change in either direction during the pandemic. \n",
        "\n",
        "Lastly, China had an increase in life quality during the pandemic, with the highest reported happiness over the sampled years being in the year 2021. Though, positive emotions had a decrease, and negative emotions had an increase in pandemic years. \n",
        "\n",
        "Through comparing life quality, positive effect, and negative effect from pre-pandemic years to pandemic years, the data indicates that the US had the strongest adverse repsonse to the pandemic, followed by China, then Israel\n",
        ". It should also be noted that other factors could have contributed to the rise or fall of national happiness, such as political circumstances unrelated to the pandemic, but the data can certainly suggest trends on how  COVID-19 effected national happiness.  "
      ],
      "metadata": {
        "id": "blDp5gog5YDz"
      }
    },
    {
      "cell_type": "markdown",
      "source": [
        "# References\n",
        "https://worldhappiness.report/\n"
      ],
      "metadata": {
        "id": "kAPTQj7BEBxH"
      }
    }
  ],
  "metadata": {
    "kernelspec": {
      "display_name": "Python 3 (ipykernel)",
      "language": "python",
      "name": "python3"
    },
    "language_info": {
      "codemirror_mode": {
        "name": "ipython",
        "version": 3
      },
      "file_extension": ".py",
      "mimetype": "text/x-python",
      "name": "python",
      "nbconvert_exporter": "python",
      "pygments_lexer": "ipython3",
      "version": "3.10.9"
    },
    "colab": {
      "provenance": []
    }
  },
  "nbformat": 4,
  "nbformat_minor": 0
}